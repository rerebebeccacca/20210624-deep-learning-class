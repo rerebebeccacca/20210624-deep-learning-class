{
  "nbformat": 4,
  "nbformat_minor": 0,
  "metadata": {
    "colab": {
      "name": "02-keras callbacks.ipynb",
      "provenance": [],
      "collapsed_sections": [],
      "include_colab_link": true
    },
    "kernelspec": {
      "name": "python3",
      "display_name": "Python 3"
    },
    "language_info": {
      "name": "python"
    },
    "accelerator": "GPU"
  },
  "cells": [
    {
      "cell_type": "markdown",
      "metadata": {
        "id": "view-in-github",
        "colab_type": "text"
      },
      "source": [
        "<a href=\"https://colab.research.google.com/github/rerebebeccacca/20210624-deep-learning-class/blob/main/02_keras_callbacks.ipynb\" target=\"_parent\"><img src=\"https://colab.research.google.com/assets/colab-badge.svg\" alt=\"Open In Colab\"/></a>"
      ]
    },
    {
      "cell_type": "code",
      "metadata": {
        "id": "JITajEWoI4jX"
      },
      "source": [
        "from tensorflow import keras"
      ],
      "execution_count": null,
      "outputs": []
    },
    {
      "cell_type": "code",
      "metadata": {
        "colab": {
          "base_uri": "https://localhost:8080/"
        },
        "id": "O6K3j50qKGNv",
        "outputId": "ff0ff196-9c13-4275-9609-3e60442ba417"
      },
      "source": [
        "keras.callbacks.EarlyStopping(patience=5, monitor='val_loss')\n",
        "# monitor: Quantity to be monitored.\n",
        "# patience: Number of epochs with no improvement after which training will be stopped."
      ],
      "execution_count": null,
      "outputs": [
        {
          "output_type": "execute_result",
          "data": {
            "text/plain": [
              "<tensorflow.python.keras.callbacks.EarlyStopping at 0x7f3ec2c8be10>"
            ]
          },
          "metadata": {
            "tags": []
          },
          "execution_count": 2
        }
      ]
    },
    {
      "cell_type": "code",
      "metadata": {
        "colab": {
          "base_uri": "https://localhost:8080/"
        },
        "id": "phWKiE-LKsW8",
        "outputId": "9d8a70c2-3dba-4b41-e46f-67fbb21e45c4"
      },
      "source": [
        "# Save best\n",
        "keras.callbacks.ModelCheckpoint(filepath='model.h5', \n",
        "                                save_best_only=True,\n",
        "                                save_weights_only=False)\n",
        "# Save last \n",
        "keras.callbacks.ModelCheckpoint(filepath='last.h5', \n",
        "                                save_best_only=False,\n",
        "                                save_weights_only=False)"
      ],
      "execution_count": null,
      "outputs": [
        {
          "output_type": "execute_result",
          "data": {
            "text/plain": [
              "<tensorflow.python.keras.callbacks.ModelCheckpoint at 0x7f3e81230310>"
            ]
          },
          "metadata": {
            "tags": []
          },
          "execution_count": 3
        }
      ]
    },
    {
      "cell_type": "code",
      "metadata": {
        "colab": {
          "base_uri": "https://localhost:8080/"
        },
        "id": "AwsXiE3z0_UM",
        "outputId": "7cbd37e5-3495-4658-c590-c367841ab100"
      },
      "source": [
        "# Save logs\n",
        "keras.callbacks.CSVLogger('logs.csv')"
      ],
      "execution_count": null,
      "outputs": [
        {
          "output_type": "execute_result",
          "data": {
            "text/plain": [
              "<tensorflow.python.keras.callbacks.CSVLogger at 0x7f3e7a594850>"
            ]
          },
          "metadata": {
            "tags": []
          },
          "execution_count": 4
        }
      ]
    },
    {
      "cell_type": "code",
      "metadata": {
        "colab": {
          "base_uri": "https://localhost:8080/"
        },
        "id": "HiAl7hwP1ERE",
        "outputId": "52f77a0b-ac94-4dbc-9408-241a064a865d"
      },
      "source": [
        "# Reduce Learning Rate\n",
        "keras.callbacks.ReduceLROnPlateau(monitor='val_loss', \n",
        "                  factor=0.2,\n",
        "                  patience=5, \n",
        "                  min_lr=0.001)\n",
        "\n",
        "# Custom Learning Rate \n",
        "def scheduler(epoch, lr):\n",
        "    if epoch < 10:\n",
        "        return lr\n",
        "    else:\n",
        "        return lr * 0.99\n",
        "keras.callbacks.LearningRateScheduler(scheduler)"
      ],
      "execution_count": null,
      "outputs": [
        {
          "output_type": "execute_result",
          "data": {
            "text/plain": [
              "<tensorflow.python.keras.callbacks.LearningRateScheduler at 0x7f3e7a594550>"
            ]
          },
          "metadata": {
            "tags": []
          },
          "execution_count": 5
        }
      ]
    },
    {
      "cell_type": "code",
      "metadata": {
        "colab": {
          "base_uri": "https://localhost:8080/"
        },
        "id": "nfP5n96bye6M",
        "outputId": "4a52e638-bfa0-40e9-b5d9-1b15e956a31b"
      },
      "source": [
        "(x_train, y_train), (x_val, y_val) = keras.datasets.cifar10.load_data()"
      ],
      "execution_count": null,
      "outputs": [
        {
          "output_type": "stream",
          "text": [
            "Downloading data from https://www.cs.toronto.edu/~kriz/cifar-10-python.tar.gz\n",
            "170500096/170498071 [==============================] - 4s 0us/step\n"
          ],
          "name": "stdout"
        }
      ]
    },
    {
      "cell_type": "code",
      "metadata": {
        "id": "4eZSWrPHywGS"
      },
      "source": [
        "x_train = x_train / 255.\n",
        "x_val = x_val / 255.\n",
        "y_train = keras.utils.to_categorical(y_train, num_classes=10)\n",
        "y_val = keras.utils.to_categorical(y_val, num_classes=10)"
      ],
      "execution_count": null,
      "outputs": []
    },
    {
      "cell_type": "code",
      "metadata": {
        "id": "wSLOsVTiy6gR",
        "colab": {
          "base_uri": "https://localhost:8080/"
        },
        "outputId": "993e6267-9f61-4482-bf16-fa93827c73ee"
      },
      "source": [
        "model = keras.models.Sequential([\n",
        "    keras.layers.Input((32, 32, 3)),\n",
        "    keras.layers.Conv2D(16, 3, activation='relu'),\n",
        "    keras.layers.Flatten(),\n",
        "    keras.layers.Dense(10, activation='softmax')\n",
        "])"
      ],
      "execution_count": null,
      "outputs": [
        {
          "output_type": "stream",
          "text": [
            "WARNING:tensorflow:Please add `keras.layers.InputLayer` instead of `keras.Input` to Sequential model. `keras.Input` is intended to be used by Functional model.\n"
          ],
          "name": "stdout"
        }
      ]
    },
    {
      "cell_type": "code",
      "metadata": {
        "id": "uqtoAlAizLGj"
      },
      "source": [
        "model.compile(loss=keras.losses.categorical_crossentropy,\n",
        "              metrics=[keras.metrics.categorical_accuracy])"
      ],
      "execution_count": null,
      "outputs": []
    },
    {
      "cell_type": "code",
      "metadata": {
        "id": "k79n0KjlzQA6",
        "colab": {
          "base_uri": "https://localhost:8080/"
        },
        "outputId": "b45ca16c-5903-4a67-ed47-bf90383bf60e"
      },
      "source": [
        "model.fit(x_train, y_train, \n",
        "          batch_size=128, \n",
        "          epochs=10,\n",
        "          validation_data=(x_val, y_val),\n",
        "\n",
        "          callbacks=[\n",
        "                     keras.callbacks.CSVLogger('logs.csv'),\n",
        "                     keras.callbacks.EarlyStopping(patience=10, monitor='val_loss'),\n",
        "                     keras.callbacks.ModelCheckpoint(filepath='model.h5', \n",
        "                                                     save_best_only=True,\n",
        "                                                     save_weights_only=False),\n",
        "                     keras.callbacks.ModelCheckpoint(filepath='last.h5', \n",
        "                                                     save_best_only=False,\n",
        "                                                     save_weights_only=False),\n",
        "                     keras.callbacks.ReduceLROnPlateau(monitor='val_loss', \n",
        "                                                       factor=0.2,\n",
        "                                                       patience=5)\n",
        "          ],\n",
        "          )"
      ],
      "execution_count": null,
      "outputs": [
        {
          "output_type": "stream",
          "text": [
            "Epoch 1/10\n",
            "391/391 [==============================] - 2s 5ms/step - loss: 1.6206 - categorical_accuracy: 0.4334 - val_loss: 1.4379 - val_categorical_accuracy: 0.4897\n",
            "Epoch 2/10\n",
            "391/391 [==============================] - 2s 4ms/step - loss: 1.3470 - categorical_accuracy: 0.5327 - val_loss: 1.4014 - val_categorical_accuracy: 0.5068\n",
            "Epoch 3/10\n",
            "391/391 [==============================] - 2s 4ms/step - loss: 1.2538 - categorical_accuracy: 0.5658 - val_loss: 1.3063 - val_categorical_accuracy: 0.5415\n",
            "Epoch 4/10\n",
            "391/391 [==============================] - 2s 4ms/step - loss: 1.1934 - categorical_accuracy: 0.5860 - val_loss: 1.2842 - val_categorical_accuracy: 0.5510\n",
            "Epoch 5/10\n",
            "391/391 [==============================] - 2s 4ms/step - loss: 1.1483 - categorical_accuracy: 0.6054 - val_loss: 1.2830 - val_categorical_accuracy: 0.5555\n",
            "Epoch 6/10\n",
            "391/391 [==============================] - 2s 4ms/step - loss: 1.1105 - categorical_accuracy: 0.6190 - val_loss: 1.3227 - val_categorical_accuracy: 0.5303\n",
            "Epoch 7/10\n",
            "391/391 [==============================] - 2s 4ms/step - loss: 1.0803 - categorical_accuracy: 0.6281 - val_loss: 1.2909 - val_categorical_accuracy: 0.5547\n",
            "Epoch 8/10\n",
            "391/391 [==============================] - 2s 4ms/step - loss: 1.0484 - categorical_accuracy: 0.6408 - val_loss: 1.4050 - val_categorical_accuracy: 0.5221\n",
            "Epoch 9/10\n",
            "391/391 [==============================] - 2s 4ms/step - loss: 1.0230 - categorical_accuracy: 0.6505 - val_loss: 1.2628 - val_categorical_accuracy: 0.5666\n",
            "Epoch 10/10\n",
            "391/391 [==============================] - 2s 4ms/step - loss: 0.9989 - categorical_accuracy: 0.6596 - val_loss: 1.2593 - val_categorical_accuracy: 0.5696\n"
          ],
          "name": "stdout"
        },
        {
          "output_type": "execute_result",
          "data": {
            "text/plain": [
              "<tensorflow.python.keras.callbacks.History at 0x7f3e1c610610>"
            ]
          },
          "metadata": {
            "tags": []
          },
          "execution_count": 14
        }
      ]
    },
    {
      "cell_type": "code",
      "metadata": {
        "id": "eu85KdsMzfaQ"
      },
      "source": [
        ""
      ],
      "execution_count": null,
      "outputs": []
    }
  ]
}