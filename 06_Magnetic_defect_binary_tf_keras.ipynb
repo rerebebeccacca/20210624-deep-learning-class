{
  "nbformat": 4,
  "nbformat_minor": 0,
  "metadata": {
    "colab": {
      "name": "06-Magnetic-defect-binary-tf.keras.ipynb",
      "provenance": [],
      "collapsed_sections": [],
      "include_colab_link": true
    },
    "kernelspec": {
      "name": "python3",
      "display_name": "Python 3"
    },
    "accelerator": "GPU",
    "widgets": {
      "application/vnd.jupyter.widget-state+json": {
        "a23b2946ae0945bcbc96380379449c82": {
          "model_module": "@jupyter-widgets/controls",
          "model_name": "HBoxModel",
          "state": {
            "_view_name": "HBoxView",
            "_dom_classes": [],
            "_model_name": "HBoxModel",
            "_view_module": "@jupyter-widgets/controls",
            "_model_module_version": "1.5.0",
            "_view_count": null,
            "_view_module_version": "1.5.0",
            "box_style": "",
            "layout": "IPY_MODEL_435691da64584010a1705082d14a252e",
            "_model_module": "@jupyter-widgets/controls",
            "children": [
              "IPY_MODEL_0c26c981399c44f38299bc133a8df5c8",
              "IPY_MODEL_91c0f072d3d74d5bbdf9b840c44add02"
            ]
          }
        },
        "435691da64584010a1705082d14a252e": {
          "model_module": "@jupyter-widgets/base",
          "model_name": "LayoutModel",
          "state": {
            "_view_name": "LayoutView",
            "grid_template_rows": null,
            "right": null,
            "justify_content": null,
            "_view_module": "@jupyter-widgets/base",
            "overflow": null,
            "_model_module_version": "1.2.0",
            "_view_count": null,
            "flex_flow": null,
            "width": null,
            "min_width": null,
            "border": null,
            "align_items": null,
            "bottom": null,
            "_model_module": "@jupyter-widgets/base",
            "top": null,
            "grid_column": null,
            "overflow_y": null,
            "overflow_x": null,
            "grid_auto_flow": null,
            "grid_area": null,
            "grid_template_columns": null,
            "flex": null,
            "_model_name": "LayoutModel",
            "justify_items": null,
            "grid_row": null,
            "max_height": null,
            "align_content": null,
            "visibility": null,
            "align_self": null,
            "height": null,
            "min_height": null,
            "padding": null,
            "grid_auto_rows": null,
            "grid_gap": null,
            "max_width": null,
            "order": null,
            "_view_module_version": "1.2.0",
            "grid_template_areas": null,
            "object_position": null,
            "object_fit": null,
            "grid_auto_columns": null,
            "margin": null,
            "display": null,
            "left": null
          }
        },
        "0c26c981399c44f38299bc133a8df5c8": {
          "model_module": "@jupyter-widgets/controls",
          "model_name": "FloatProgressModel",
          "state": {
            "_view_name": "ProgressView",
            "style": "IPY_MODEL_ba7aec32d8a6477d85044e11c7f460cb",
            "_dom_classes": [],
            "description": "",
            "_model_name": "FloatProgressModel",
            "bar_style": "success",
            "max": 1,
            "_view_module": "@jupyter-widgets/controls",
            "_model_module_version": "1.5.0",
            "value": 1,
            "_view_count": null,
            "_view_module_version": "1.5.0",
            "orientation": "horizontal",
            "min": 0,
            "description_tooltip": null,
            "_model_module": "@jupyter-widgets/controls",
            "layout": "IPY_MODEL_d821e755670d4d8eb4ae0fb5ec5282ab"
          }
        },
        "91c0f072d3d74d5bbdf9b840c44add02": {
          "model_module": "@jupyter-widgets/controls",
          "model_name": "HTMLModel",
          "state": {
            "_view_name": "HTMLView",
            "style": "IPY_MODEL_5c8be0fe5820407b8dcb390e29d96f4a",
            "_dom_classes": [],
            "description": "",
            "_model_name": "HTMLModel",
            "placeholder": "​",
            "_view_module": "@jupyter-widgets/controls",
            "_model_module_version": "1.5.0",
            "value": " 1067/? [00:30&lt;00:00, 34.97it/s]",
            "_view_count": null,
            "_view_module_version": "1.5.0",
            "description_tooltip": null,
            "_model_module": "@jupyter-widgets/controls",
            "layout": "IPY_MODEL_3093c649ab3546969d3fea01373e6357"
          }
        },
        "ba7aec32d8a6477d85044e11c7f460cb": {
          "model_module": "@jupyter-widgets/controls",
          "model_name": "ProgressStyleModel",
          "state": {
            "_view_name": "StyleView",
            "_model_name": "ProgressStyleModel",
            "description_width": "initial",
            "_view_module": "@jupyter-widgets/base",
            "_model_module_version": "1.5.0",
            "_view_count": null,
            "_view_module_version": "1.2.0",
            "bar_color": null,
            "_model_module": "@jupyter-widgets/controls"
          }
        },
        "d821e755670d4d8eb4ae0fb5ec5282ab": {
          "model_module": "@jupyter-widgets/base",
          "model_name": "LayoutModel",
          "state": {
            "_view_name": "LayoutView",
            "grid_template_rows": null,
            "right": null,
            "justify_content": null,
            "_view_module": "@jupyter-widgets/base",
            "overflow": null,
            "_model_module_version": "1.2.0",
            "_view_count": null,
            "flex_flow": null,
            "width": null,
            "min_width": null,
            "border": null,
            "align_items": null,
            "bottom": null,
            "_model_module": "@jupyter-widgets/base",
            "top": null,
            "grid_column": null,
            "overflow_y": null,
            "overflow_x": null,
            "grid_auto_flow": null,
            "grid_area": null,
            "grid_template_columns": null,
            "flex": null,
            "_model_name": "LayoutModel",
            "justify_items": null,
            "grid_row": null,
            "max_height": null,
            "align_content": null,
            "visibility": null,
            "align_self": null,
            "height": null,
            "min_height": null,
            "padding": null,
            "grid_auto_rows": null,
            "grid_gap": null,
            "max_width": null,
            "order": null,
            "_view_module_version": "1.2.0",
            "grid_template_areas": null,
            "object_position": null,
            "object_fit": null,
            "grid_auto_columns": null,
            "margin": null,
            "display": null,
            "left": null
          }
        },
        "5c8be0fe5820407b8dcb390e29d96f4a": {
          "model_module": "@jupyter-widgets/controls",
          "model_name": "DescriptionStyleModel",
          "state": {
            "_view_name": "StyleView",
            "_model_name": "DescriptionStyleModel",
            "description_width": "",
            "_view_module": "@jupyter-widgets/base",
            "_model_module_version": "1.5.0",
            "_view_count": null,
            "_view_module_version": "1.2.0",
            "_model_module": "@jupyter-widgets/controls"
          }
        },
        "3093c649ab3546969d3fea01373e6357": {
          "model_module": "@jupyter-widgets/base",
          "model_name": "LayoutModel",
          "state": {
            "_view_name": "LayoutView",
            "grid_template_rows": null,
            "right": null,
            "justify_content": null,
            "_view_module": "@jupyter-widgets/base",
            "overflow": null,
            "_model_module_version": "1.2.0",
            "_view_count": null,
            "flex_flow": null,
            "width": null,
            "min_width": null,
            "border": null,
            "align_items": null,
            "bottom": null,
            "_model_module": "@jupyter-widgets/base",
            "top": null,
            "grid_column": null,
            "overflow_y": null,
            "overflow_x": null,
            "grid_auto_flow": null,
            "grid_area": null,
            "grid_template_columns": null,
            "flex": null,
            "_model_name": "LayoutModel",
            "justify_items": null,
            "grid_row": null,
            "max_height": null,
            "align_content": null,
            "visibility": null,
            "align_self": null,
            "height": null,
            "min_height": null,
            "padding": null,
            "grid_auto_rows": null,
            "grid_gap": null,
            "max_width": null,
            "order": null,
            "_view_module_version": "1.2.0",
            "grid_template_areas": null,
            "object_position": null,
            "object_fit": null,
            "grid_auto_columns": null,
            "margin": null,
            "display": null,
            "left": null
          }
        }
      }
    }
  },
  "cells": [
    {
      "cell_type": "markdown",
      "metadata": {
        "id": "view-in-github",
        "colab_type": "text"
      },
      "source": [
        "<a href=\"https://colab.research.google.com/github/rerebebeccacca/20210624-deep-learning-class/blob/main/06_Magnetic_defect_binary_tf_keras.ipynb\" target=\"_parent\"><img src=\"https://colab.research.google.com/assets/colab-badge.svg\" alt=\"Open In Colab\"/></a>"
      ]
    },
    {
      "cell_type": "markdown",
      "metadata": {
        "id": "vgllMdbICSs2"
      },
      "source": [
        "Defect Class\n",
        "\n",
        "*   MT_Blowhole\n",
        "*   MT_Break\n",
        "*   MT_Crack\n",
        "*   MT_Fray\n",
        "*   MT_Uneven\n",
        "*   MT_Free\n",
        "\n"
      ]
    },
    {
      "cell_type": "code",
      "metadata": {
        "id": "O1LCqsNcie2e",
        "colab": {
          "base_uri": "https://localhost:8080/"
        },
        "outputId": "5c0b8d0c-4aa4-4df4-d31d-8ba112aef925"
      },
      "source": [
        "# download dataset from https://drive.google.com/file/d/12iinuMZkaZOZGXlkPsUnmETaE-cMlyHu/view?usp=sharing\n",
        "!gdown --id 12iinuMZkaZOZGXlkPsUnmETaE-cMlyHu --output defect.zip"
      ],
      "execution_count": null,
      "outputs": [
        {
          "output_type": "stream",
          "text": [
            "Downloading...\n",
            "From: https://drive.google.com/uc?id=12iinuMZkaZOZGXlkPsUnmETaE-cMlyHu\n",
            "To: /content/defect.zip\n",
            "53.2MB [00:00, 202MB/s]\n"
          ],
          "name": "stdout"
        }
      ]
    },
    {
      "cell_type": "code",
      "metadata": {
        "id": "ON8hWPIyjOP0"
      },
      "source": [
        "!unzip -q defect.zip"
      ],
      "execution_count": null,
      "outputs": []
    },
    {
      "cell_type": "code",
      "metadata": {
        "id": "8RhJmGMzdrXb"
      },
      "source": [
        "import cv2\n",
        "import matplotlib.pyplot as plt\n",
        "import numpy as np\n",
        "from glob import glob\n",
        "from tqdm.auto import tqdm\n",
        "import tensorflow as tf\n",
        "from tensorflow.keras import layers, models\n",
        "from sklearn.model_selection import train_test_split"
      ],
      "execution_count": null,
      "outputs": []
    },
    {
      "cell_type": "code",
      "metadata": {
        "id": "mPIpgmfHfAcW"
      },
      "source": [
        "IMG_SIZE = 256\n",
        "class_map = {'MT_Free':0, 'MT_Blowhole': 1}"
      ],
      "execution_count": null,
      "outputs": []
    },
    {
      "cell_type": "code",
      "metadata": {
        "id": "TunMqWnneBfp"
      },
      "source": [
        "# Read single image\n",
        "img_paths = glob('./Magnetic-tile-defect/MT_Blowhole/Imgs/*.jpg') + glob('./Magnetic-tile-defect/MT_Free/Imgs/*.jpg')"
      ],
      "execution_count": null,
      "outputs": []
    },
    {
      "cell_type": "code",
      "metadata": {
        "id": "N6bifFi4nQpz",
        "colab": {
          "base_uri": "https://localhost:8080/"
        },
        "outputId": "ba326a6f-e544-4982-e634-ec33804801e4"
      },
      "source": [
        "# number of images\n",
        "len(img_paths)"
      ],
      "execution_count": null,
      "outputs": [
        {
          "output_type": "execute_result",
          "data": {
            "text/plain": [
              "1067"
            ]
          },
          "metadata": {
            "tags": []
          },
          "execution_count": 6
        }
      ]
    },
    {
      "cell_type": "code",
      "metadata": {
        "id": "Abad-NjMnFWf",
        "colab": {
          "base_uri": "https://localhost:8080/",
          "height": 304
        },
        "outputId": "f8f3d46b-f7e1-42bb-a526-000f8553ae21"
      },
      "source": [
        "# show image\n",
        "img_idx = np.random.randint(0, len(img_paths))\n",
        "path = img_paths[img_idx]\n",
        "img = cv2.imread(path)\n",
        "print(path, '\\n', img.shape)\n",
        "plt.imshow(img)\n",
        "plt.show()"
      ],
      "execution_count": null,
      "outputs": [
        {
          "output_type": "stream",
          "text": [
            "./Magnetic-tile-defect/MT_Free/Imgs/exp2_num_178482.jpg \n",
            " (322, 190, 3)\n"
          ],
          "name": "stdout"
        },
        {
          "output_type": "display_data",
          "data": {
            "image/png": "[encoded data removed]",
            "text/plain": [
              "<Figure size 432x288 with 1 Axes>"
            ]
          },
          "metadata": {
            "tags": [],
            "needs_background": "light"
          }
        }
      ]
    },
    {
      "cell_type": "code",
      "metadata": {
        "id": "WEFUY0d8eZsS",
        "colab": {
          "base_uri": "https://localhost:8080/",
          "height": 287
        },
        "outputId": "263ef223-6832-4382-8633-b66c65ccef84"
      },
      "source": [
        "# Resize img\n",
        "img_resized = cv2.resize(img, (IMG_SIZE, IMG_SIZE))\n",
        "plt.imshow(img_resized)\n",
        "img.shape, img_resized.shape"
      ],
      "execution_count": null,
      "outputs": [
        {
          "output_type": "execute_result",
          "data": {
            "text/plain": [
              "((322, 190, 3), (256, 256, 3))"
            ]
          },
          "metadata": {
            "tags": []
          },
          "execution_count": 17
        },
        {
          "output_type": "display_data",
          "data": {
            "image/png": "[encoded data removed]",
            "text/plain": [
              "<Figure size 432x288 with 1 Axes>"
            ]
          },
          "metadata": {
            "tags": [],
            "needs_background": "light"
          }
        }
      ]
    },
    {
      "cell_type": "code",
      "metadata": {
        "id": "rmNqDBi7fJ19",
        "colab": {
          "base_uri": "https://localhost:8080/",
          "height": 35
        },
        "outputId": "0697b577-924b-4981-b2f6-c36ab92f5fc8"
      },
      "source": [
        "# Extract img class\n",
        "img_path = img_paths[img_idx]\n",
        "img_path"
      ],
      "execution_count": null,
      "outputs": [
        {
          "output_type": "execute_result",
          "data": {
            "application/vnd.google.colaboratory.intrinsic+json": {
              "type": "string"
            },
            "text/plain": [
              "'./Magnetic-tile-defect/MT_Free/Imgs/exp2_num_178482.jpg'"
            ]
          },
          "metadata": {
            "tags": []
          },
          "execution_count": 18
        }
      ]
    },
    {
      "cell_type": "code",
      "metadata": {
        "id": "-fkyr4C-fXOW",
        "colab": {
          "base_uri": "https://localhost:8080/",
          "height": 35
        },
        "outputId": "c8bab018-26c2-461f-85f0-cb21e4d1c270"
      },
      "source": [
        "cls = img_path.split('/')[-3]\n",
        "cls"
      ],
      "execution_count": null,
      "outputs": [
        {
          "output_type": "execute_result",
          "data": {
            "application/vnd.google.colaboratory.intrinsic+json": {
              "type": "string"
            },
            "text/plain": [
              "'MT_Free'"
            ]
          },
          "metadata": {
            "tags": []
          },
          "execution_count": 19
        }
      ]
    },
    {
      "cell_type": "code",
      "metadata": {
        "id": "BS1jxQRpffKT",
        "colab": {
          "base_uri": "https://localhost:8080/"
        },
        "outputId": "2c981813-fbc2-4f32-9674-a41fd8e8a754"
      },
      "source": [
        "class_map[cls]"
      ],
      "execution_count": null,
      "outputs": [
        {
          "output_type": "execute_result",
          "data": {
            "text/plain": [
              "0"
            ]
          },
          "metadata": {
            "tags": []
          },
          "execution_count": 20
        }
      ]
    },
    {
      "cell_type": "markdown",
      "metadata": {
        "id": "r0rkmdnpnxf5"
      },
      "source": [
        "### Read all images"
      ]
    },
    {
      "cell_type": "code",
      "metadata": {
        "id": "TrWtlv0AfzCL"
      },
      "source": [
        "data_count = len(img_paths)\n",
        "X = np.zeros((data_count, IMG_SIZE, IMG_SIZE, 3))\n",
        "y = np.zeros((data_count, ))"
      ],
      "execution_count": null,
      "outputs": []
    },
    {
      "cell_type": "code",
      "metadata": {
        "id": "lChYtjPBgRV9",
        "colab": {
          "base_uri": "https://localhost:8080/",
          "height": 66,
          "referenced_widgets": [
            "a23b2946ae0945bcbc96380379449c82",
            "435691da64584010a1705082d14a252e",
            "0c26c981399c44f38299bc133a8df5c8",
            "91c0f072d3d74d5bbdf9b840c44add02",
            "ba7aec32d8a6477d85044e11c7f460cb",
            "d821e755670d4d8eb4ae0fb5ec5282ab",
            "5c8be0fe5820407b8dcb390e29d96f4a",
            "3093c649ab3546969d3fea01373e6357"
          ]
        },
        "outputId": "9789fcd2-b5e3-4b9a-a284-5b7432697f0f"
      },
      "source": [
        "for i, path in tqdm(enumerate(img_paths)):\n",
        "    # read and preprocess image\n",
        "    img = cv2.imread(path)\n",
        "    img_resize = cv2.resize(img, (IMG_SIZE, IMG_SIZE)) # resize\n",
        "    img_resize = img_resize / 255. # normalization\n",
        "    # get image's label\n",
        "    cls = path.split('/')[-3]\n",
        "    \n",
        "    X[i] = img_resize\n",
        "    y[i] = class_map[cls]"
      ],
      "execution_count": null,
      "outputs": [
        {
          "output_type": "display_data",
          "data": {
            "application/vnd.jupyter.widget-view+json": {
              "model_id": "a23b2946ae0945bcbc96380379449c82",
              "version_minor": 0,
              "version_major": 2
            },
            "text/plain": [
              "HBox(children=(FloatProgress(value=1.0, bar_style='info', max=1.0), HTML(value='')))"
            ]
          },
          "metadata": {
            "tags": []
          }
        },
        {
          "output_type": "stream",
          "text": [
            "\n"
          ],
          "name": "stdout"
        }
      ]
    },
    {
      "cell_type": "code",
      "metadata": {
        "id": "JBkh9HJdhrLH",
        "colab": {
          "base_uri": "https://localhost:8080/"
        },
        "outputId": "4dc10775-9ef2-41c2-a11a-53431408f68a"
      },
      "source": [
        "# label count\n",
        "unique_classes, counts = np.unique(y, return_counts=True)\n",
        "unique_classes, counts"
      ],
      "execution_count": null,
      "outputs": [
        {
          "output_type": "execute_result",
          "data": {
            "text/plain": [
              "(array([0., 1.]), array([952, 115]))"
            ]
          },
          "metadata": {
            "tags": []
          },
          "execution_count": 23
        }
      ]
    },
    {
      "cell_type": "code",
      "metadata": {
        "id": "ZwiobxSRjIAW",
        "colab": {
          "base_uri": "https://localhost:8080/"
        },
        "outputId": "9930d0dd-74cb-428a-9cf8-af1c87b35d07"
      },
      "source": [
        "# split train and test dataset\n",
        "X_train, X_test, y_train, y_test = train_test_split(X, y, test_size=0.2, random_state=5566)\n",
        "\n",
        "# one-hot encoding \n",
        "y_train = tf.keras.utils.to_categorical(y_train, num_classes=2)\n",
        "y_test = tf.keras.utils.to_categorical(y_test, num_classes=2)\n",
        "\n",
        "X_train.shape, X_test.shape, y_train.shape, y_test.shape"
      ],
      "execution_count": null,
      "outputs": [
        {
          "output_type": "execute_result",
          "data": {
            "text/plain": [
              "((853, 256, 256, 3), (214, 256, 256, 3), (853, 2), (214, 2))"
            ]
          },
          "metadata": {
            "tags": []
          },
          "execution_count": 58
        }
      ]
    },
    {
      "cell_type": "code",
      "metadata": {
        "id": "sfdJ8OL4sl2D"
      },
      "source": [
        "y_train"
      ],
      "execution_count": null,
      "outputs": []
    },
    {
      "cell_type": "code",
      "metadata": {
        "colab": {
          "base_uri": "https://localhost:8080/"
        },
        "id": "3NWtxnKG6RiO",
        "outputId": "1a6d4752-b2eb-44dc-fe76-234b3acb25b1"
      },
      "source": [
        "unique_classes, counts = np.unique(y_train, return_counts=True)\n",
        "unique_classes, counts"
      ],
      "execution_count": null,
      "outputs": [
        {
          "output_type": "execute_result",
          "data": {
            "text/plain": [
              "(array([0., 1.]), array([763,  90]))"
            ]
          },
          "metadata": {
            "tags": []
          },
          "execution_count": 30
        }
      ]
    },
    {
      "cell_type": "code",
      "metadata": {
        "colab": {
          "base_uri": "https://localhost:8080/"
        },
        "id": "sAvBvSsK6Xai",
        "outputId": "2a6fae07-b12d-4988-d691-a351048d31e1"
      },
      "source": [
        "763 / 853"
      ],
      "execution_count": null,
      "outputs": [
        {
          "output_type": "execute_result",
          "data": {
            "text/plain": [
              "0.8944900351699883"
            ]
          },
          "metadata": {
            "tags": []
          },
          "execution_count": 31
        }
      ]
    },
    {
      "cell_type": "code",
      "metadata": {
        "id": "Q4YjMf948CTX"
      },
      "source": [
        "X_train[0]"
      ],
      "execution_count": null,
      "outputs": []
    },
    {
      "cell_type": "markdown",
      "metadata": {
        "id": "zQtnD5WbtVDy"
      },
      "source": [
        "### Build model"
      ]
    },
    {
      "cell_type": "code",
      "metadata": {
        "id": "VTvodRYkkXQh"
      },
      "source": [
        "def build_model():\n",
        "    inputs = layers.Input(shape=(IMG_SIZE, IMG_SIZE, 3))\n",
        "    x = layers.Conv2D(filters=16, kernel_size=3, activation='relu')(inputs)\n",
        "    x = layers.Conv2D(filters=16, kernel_size=3, activation='relu')(x)\n",
        "    x = layers.MaxPool2D(2)(x)\n",
        "    x = layers.Conv2D(filters=32, kernel_size=3, activation='relu')(x)\n",
        "    x = layers.Conv2D(filters=32, kernel_size=3, activation='relu')(x)\n",
        "    x = layers.MaxPool2D(2)(x)\n",
        "    x = layers.Conv2D(filters=64, kernel_size=3, activation='relu')(x)\n",
        "    x = layers.Conv2D(filters=64, kernel_size=3, activation='relu')(x)\n",
        "    x = layers.MaxPool2D(2)(x)\n",
        "    x = layers.Conv2D(filters=128, kernel_size=3, activation='relu')(x)\n",
        "    x = layers.Conv2D(filters=128, kernel_size=3, activation='relu')(x)\n",
        "    x = layers.MaxPool2D(2)(x)\n",
        "    x = layers.Conv2D(filters=256, kernel_size=3, activation='relu')(x)\n",
        "    x = layers.Conv2D(filters=256, kernel_size=3, activation='relu')(x)\n",
        "    x = layers.MaxPool2D(2)(x)\n",
        "    # x = layers.Flatten()(x)\n",
        "    x = layers.GlobalAveragePooling2D()(x)\n",
        "    x = layers.Dense(64, activation='relu')(x)\n",
        "    prediction = layers.Dense(1, activation='sigmoid')(x)\n",
        "    model = models.Model(inputs=inputs, outputs=prediction)\n",
        "    return model\n",
        "\n",
        "def resnet():\n",
        "    base_model = tf.keras.applications.ResNet50(include_top=False, \n",
        "                                                weights=None, \n",
        "                                                input_shape=(IMG_SIZE, IMG_SIZE, 3))\n",
        "    x = layers.GlobalAveragePooling2D()(base_model.output)\n",
        "\n",
        "    #x = layers.Dense(1, activation='sigmoid')(x)\n",
        "    #\n",
        "    x = layers.Dense(2, activation='softmax')(x)\n",
        "\n",
        "    model = models.Model(inputs=base_model.input, outputs=x)\n",
        "    return model\n"
      ],
      "execution_count": null,
      "outputs": []
    },
    {
      "cell_type": "code",
      "metadata": {
        "id": "8bXw628qltQk",
        "colab": {
          "base_uri": "https://localhost:8080/"
        },
        "outputId": "dfe37067-d21f-4ff7-e93a-5e7dafd01f7e"
      },
      "source": [
        "model = resnet() # build_model()\n",
        "model.summary()"
      ],
      "execution_count": null,
      "outputs": [
        {
          "output_type": "stream",
          "text": [
            "Model: \"model_3\"\n",
            "__________________________________________________________________________________________________\n",
            "Layer (type)                    Output Shape         Param #     Connected to                     \n",
            "==================================================================================================\n",
            "input_5 (InputLayer)            [(None, 256, 256, 3) 0                                            \n",
            "__________________________________________________________________________________________________\n",
            "conv1_pad (ZeroPadding2D)       (None, 262, 262, 3)  0           input_5[0][0]                    \n",
            "__________________________________________________________________________________________________\n",
            "conv1_conv (Conv2D)             (None, 128, 128, 64) 9472        conv1_pad[0][0]                  \n",
            "__________________________________________________________________________________________________\n",
            "conv1_bn (BatchNormalization)   (None, 128, 128, 64) 256         conv1_conv[0][0]                 \n",
            "__________________________________________________________________________________________________\n",
            "conv1_relu (Activation)         (None, 128, 128, 64) 0           conv1_bn[0][0]                   \n",
            "__________________________________________________________________________________________________\n",
            "pool1_pad (ZeroPadding2D)       (None, 130, 130, 64) 0           conv1_relu[0][0]                 \n",
            "__________________________________________________________________________________________________\n",
            "pool1_pool (MaxPooling2D)       (None, 64, 64, 64)   0           pool1_pad[0][0]                  \n",
            "__________________________________________________________________________________________________\n",
            "conv2_block1_1_conv (Conv2D)    (None, 64, 64, 64)   4160        pool1_pool[0][0]                 \n",
            "__________________________________________________________________________________________________\n",
            "conv2_block1_1_bn (BatchNormali (None, 64, 64, 64)   256         conv2_block1_1_conv[0][0]        \n",
            "__________________________________________________________________________________________________\n",
            "conv2_block1_1_relu (Activation (None, 64, 64, 64)   0           conv2_block1_1_bn[0][0]          \n",
            "__________________________________________________________________________________________________\n",
            "conv2_block1_2_conv (Conv2D)    (None, 64, 64, 64)   36928       conv2_block1_1_relu[0][0]        \n",
            "__________________________________________________________________________________________________\n",
            "conv2_block1_2_bn (BatchNormali (None, 64, 64, 64)   256         conv2_block1_2_conv[0][0]        \n",
            "__________________________________________________________________________________________________\n",
            "conv2_block1_2_relu (Activation (None, 64, 64, 64)   0           conv2_block1_2_bn[0][0]          \n",
            "__________________________________________________________________________________________________\n",
            "conv2_block1_0_conv (Conv2D)    (None, 64, 64, 256)  16640       pool1_pool[0][0]                 \n",
            "__________________________________________________________________________________________________\n",
            "conv2_block1_3_conv (Conv2D)    (None, 64, 64, 256)  16640       conv2_block1_2_relu[0][0]        \n",
            "__________________________________________________________________________________________________\n",
            "conv2_block1_0_bn (BatchNormali (None, 64, 64, 256)  1024        conv2_block1_0_conv[0][0]        \n",
            "__________________________________________________________________________________________________\n",
            "conv2_block1_3_bn (BatchNormali (None, 64, 64, 256)  1024        conv2_block1_3_conv[0][0]        \n",
            "__________________________________________________________________________________________________\n",
            "conv2_block1_add (Add)          (None, 64, 64, 256)  0           conv2_block1_0_bn[0][0]          \n",
            "                                                                 conv2_block1_3_bn[0][0]          \n",
            "__________________________________________________________________________________________________\n",
            "conv2_block1_out (Activation)   (None, 64, 64, 256)  0           conv2_block1_add[0][0]           \n",
            "__________________________________________________________________________________________________\n",
            "conv2_block2_1_conv (Conv2D)    (None, 64, 64, 64)   16448       conv2_block1_out[0][0]           \n",
            "__________________________________________________________________________________________________\n",
            "conv2_block2_1_bn (BatchNormali (None, 64, 64, 64)   256         conv2_block2_1_conv[0][0]        \n",
            "__________________________________________________________________________________________________\n",
            "conv2_block2_1_relu (Activation (None, 64, 64, 64)   0           conv2_block2_1_bn[0][0]          \n",
            "__________________________________________________________________________________________________\n",
            "conv2_block2_2_conv (Conv2D)    (None, 64, 64, 64)   36928       conv2_block2_1_relu[0][0]        \n",
            "__________________________________________________________________________________________________\n",
            "conv2_block2_2_bn (BatchNormali (None, 64, 64, 64)   256         conv2_block2_2_conv[0][0]        \n",
            "__________________________________________________________________________________________________\n",
            "conv2_block2_2_relu (Activation (None, 64, 64, 64)   0           conv2_block2_2_bn[0][0]          \n",
            "__________________________________________________________________________________________________\n",
            "conv2_block2_3_conv (Conv2D)    (None, 64, 64, 256)  16640       conv2_block2_2_relu[0][0]        \n",
            "__________________________________________________________________________________________________\n",
            "conv2_block2_3_bn (BatchNormali (None, 64, 64, 256)  1024        conv2_block2_3_conv[0][0]        \n",
            "__________________________________________________________________________________________________\n",
            "conv2_block2_add (Add)          (None, 64, 64, 256)  0           conv2_block1_out[0][0]           \n",
            "                                                                 conv2_block2_3_bn[0][0]          \n",
            "__________________________________________________________________________________________________\n",
            "conv2_block2_out (Activation)   (None, 64, 64, 256)  0           conv2_block2_add[0][0]           \n",
            "__________________________________________________________________________________________________\n",
            "conv2_block3_1_conv (Conv2D)    (None, 64, 64, 64)   16448       conv2_block2_out[0][0]           \n",
            "__________________________________________________________________________________________________\n",
            "conv2_block3_1_bn (BatchNormali (None, 64, 64, 64)   256         conv2_block3_1_conv[0][0]        \n",
            "__________________________________________________________________________________________________\n",
            "conv2_block3_1_relu (Activation (None, 64, 64, 64)   0           conv2_block3_1_bn[0][0]          \n",
            "__________________________________________________________________________________________________\n",
            "conv2_block3_2_conv (Conv2D)    (None, 64, 64, 64)   36928       conv2_block3_1_relu[0][0]        \n",
            "__________________________________________________________________________________________________\n",
            "conv2_block3_2_bn (BatchNormali (None, 64, 64, 64)   256         conv2_block3_2_conv[0][0]        \n",
            "__________________________________________________________________________________________________\n",
            "conv2_block3_2_relu (Activation (None, 64, 64, 64)   0           conv2_block3_2_bn[0][0]          \n",
            "__________________________________________________________________________________________________\n",
            "conv2_block3_3_conv (Conv2D)    (None, 64, 64, 256)  16640       conv2_block3_2_relu[0][0]        \n",
            "__________________________________________________________________________________________________\n",
            "conv2_block3_3_bn (BatchNormali (None, 64, 64, 256)  1024        conv2_block3_3_conv[0][0]        \n",
            "__________________________________________________________________________________________________\n",
            "conv2_block3_add (Add)          (None, 64, 64, 256)  0           conv2_block2_out[0][0]           \n",
            "                                                                 conv2_block3_3_bn[0][0]          \n",
            "__________________________________________________________________________________________________\n",
            "conv2_block3_out (Activation)   (None, 64, 64, 256)  0           conv2_block3_add[0][0]           \n",
            "__________________________________________________________________________________________________\n",
            "conv3_block1_1_conv (Conv2D)    (None, 32, 32, 128)  32896       conv2_block3_out[0][0]           \n",
            "__________________________________________________________________________________________________\n",
            "conv3_block1_1_bn (BatchNormali (None, 32, 32, 128)  512         conv3_block1_1_conv[0][0]        \n",
            "__________________________________________________________________________________________________\n",
            "conv3_block1_1_relu (Activation (None, 32, 32, 128)  0           conv3_block1_1_bn[0][0]          \n",
            "__________________________________________________________________________________________________\n",
            "conv3_block1_2_conv (Conv2D)    (None, 32, 32, 128)  147584      conv3_block1_1_relu[0][0]        \n",
            "__________________________________________________________________________________________________\n",
            "conv3_block1_2_bn (BatchNormali (None, 32, 32, 128)  512         conv3_block1_2_conv[0][0]        \n",
            "__________________________________________________________________________________________________\n",
            "conv3_block1_2_relu (Activation (None, 32, 32, 128)  0           conv3_block1_2_bn[0][0]          \n",
            "__________________________________________________________________________________________________\n",
            "conv3_block1_0_conv (Conv2D)    (None, 32, 32, 512)  131584      conv2_block3_out[0][0]           \n",
            "__________________________________________________________________________________________________\n",
            "conv3_block1_3_conv (Conv2D)    (None, 32, 32, 512)  66048       conv3_block1_2_relu[0][0]        \n",
            "__________________________________________________________________________________________________\n",
            "conv3_block1_0_bn (BatchNormali (None, 32, 32, 512)  2048        conv3_block1_0_conv[0][0]        \n",
            "__________________________________________________________________________________________________\n",
            "conv3_block1_3_bn (BatchNormali (None, 32, 32, 512)  2048        conv3_block1_3_conv[0][0]        \n",
            "__________________________________________________________________________________________________\n",
            "conv3_block1_add (Add)          (None, 32, 32, 512)  0           conv3_block1_0_bn[0][0]          \n",
            "                                                                 conv3_block1_3_bn[0][0]          \n",
            "__________________________________________________________________________________________________\n",
            "conv3_block1_out (Activation)   (None, 32, 32, 512)  0           conv3_block1_add[0][0]           \n",
            "__________________________________________________________________________________________________\n",
            "conv3_block2_1_conv (Conv2D)    (None, 32, 32, 128)  65664       conv3_block1_out[0][0]           \n",
            "__________________________________________________________________________________________________\n",
            "conv3_block2_1_bn (BatchNormali (None, 32, 32, 128)  512         conv3_block2_1_conv[0][0]        \n",
            "__________________________________________________________________________________________________\n",
            "conv3_block2_1_relu (Activation (None, 32, 32, 128)  0           conv3_block2_1_bn[0][0]          \n",
            "__________________________________________________________________________________________________\n",
            "conv3_block2_2_conv (Conv2D)    (None, 32, 32, 128)  147584      conv3_block2_1_relu[0][0]        \n",
            "__________________________________________________________________________________________________\n",
            "conv3_block2_2_bn (BatchNormali (None, 32, 32, 128)  512         conv3_block2_2_conv[0][0]        \n",
            "__________________________________________________________________________________________________\n",
            "conv3_block2_2_relu (Activation (None, 32, 32, 128)  0           conv3_block2_2_bn[0][0]          \n",
            "__________________________________________________________________________________________________\n",
            "conv3_block2_3_conv (Conv2D)    (None, 32, 32, 512)  66048       conv3_block2_2_relu[0][0]        \n",
            "__________________________________________________________________________________________________\n",
            "conv3_block2_3_bn (BatchNormali (None, 32, 32, 512)  2048        conv3_block2_3_conv[0][0]        \n",
            "__________________________________________________________________________________________________\n",
            "conv3_block2_add (Add)          (None, 32, 32, 512)  0           conv3_block1_out[0][0]           \n",
            "                                                                 conv3_block2_3_bn[0][0]          \n",
            "__________________________________________________________________________________________________\n",
            "conv3_block2_out (Activation)   (None, 32, 32, 512)  0           conv3_block2_add[0][0]           \n",
            "__________________________________________________________________________________________________\n",
            "conv3_block3_1_conv (Conv2D)    (None, 32, 32, 128)  65664       conv3_block2_out[0][0]           \n",
            "__________________________________________________________________________________________________\n",
            "conv3_block3_1_bn (BatchNormali (None, 32, 32, 128)  512         conv3_block3_1_conv[0][0]        \n",
            "__________________________________________________________________________________________________\n",
            "conv3_block3_1_relu (Activation (None, 32, 32, 128)  0           conv3_block3_1_bn[0][0]          \n",
            "__________________________________________________________________________________________________\n",
            "conv3_block3_2_conv (Conv2D)    (None, 32, 32, 128)  147584      conv3_block3_1_relu[0][0]        \n",
            "__________________________________________________________________________________________________\n",
            "conv3_block3_2_bn (BatchNormali (None, 32, 32, 128)  512         conv3_block3_2_conv[0][0]        \n",
            "__________________________________________________________________________________________________\n",
            "conv3_block3_2_relu (Activation (None, 32, 32, 128)  0           conv3_block3_2_bn[0][0]          \n",
            "__________________________________________________________________________________________________\n",
            "conv3_block3_3_conv (Conv2D)    (None, 32, 32, 512)  66048       conv3_block3_2_relu[0][0]        \n",
            "__________________________________________________________________________________________________\n",
            "conv3_block3_3_bn (BatchNormali (None, 32, 32, 512)  2048        conv3_block3_3_conv[0][0]        \n",
            "__________________________________________________________________________________________________\n",
            "conv3_block3_add (Add)          (None, 32, 32, 512)  0           conv3_block2_out[0][0]           \n",
            "                                                                 conv3_block3_3_bn[0][0]          \n",
            "__________________________________________________________________________________________________\n",
            "conv3_block3_out (Activation)   (None, 32, 32, 512)  0           conv3_block3_add[0][0]           \n",
            "__________________________________________________________________________________________________\n",
            "conv3_block4_1_conv (Conv2D)    (None, 32, 32, 128)  65664       conv3_block3_out[0][0]           \n",
            "__________________________________________________________________________________________________\n",
            "conv3_block4_1_bn (BatchNormali (None, 32, 32, 128)  512         conv3_block4_1_conv[0][0]        \n",
            "__________________________________________________________________________________________________\n",
            "conv3_block4_1_relu (Activation (None, 32, 32, 128)  0           conv3_block4_1_bn[0][0]          \n",
            "__________________________________________________________________________________________________\n",
            "conv3_block4_2_conv (Conv2D)    (None, 32, 32, 128)  147584      conv3_block4_1_relu[0][0]        \n",
            "__________________________________________________________________________________________________\n",
            "conv3_block4_2_bn (BatchNormali (None, 32, 32, 128)  512         conv3_block4_2_conv[0][0]        \n",
            "__________________________________________________________________________________________________\n",
            "conv3_block4_2_relu (Activation (None, 32, 32, 128)  0           conv3_block4_2_bn[0][0]          \n",
            "__________________________________________________________________________________________________\n",
            "conv3_block4_3_conv (Conv2D)    (None, 32, 32, 512)  66048       conv3_block4_2_relu[0][0]        \n",
            "__________________________________________________________________________________________________\n",
            "conv3_block4_3_bn (BatchNormali (None, 32, 32, 512)  2048        conv3_block4_3_conv[0][0]        \n",
            "__________________________________________________________________________________________________\n",
            "conv3_block4_add (Add)          (None, 32, 32, 512)  0           conv3_block3_out[0][0]           \n",
            "                                                                 conv3_block4_3_bn[0][0]          \n",
            "__________________________________________________________________________________________________\n",
            "conv3_block4_out (Activation)   (None, 32, 32, 512)  0           conv3_block4_add[0][0]           \n",
            "__________________________________________________________________________________________________\n",
            "conv4_block1_1_conv (Conv2D)    (None, 16, 16, 256)  131328      conv3_block4_out[0][0]           \n",
            "__________________________________________________________________________________________________\n",
            "conv4_block1_1_bn (BatchNormali (None, 16, 16, 256)  1024        conv4_block1_1_conv[0][0]        \n",
            "__________________________________________________________________________________________________\n",
            "conv4_block1_1_relu (Activation (None, 16, 16, 256)  0           conv4_block1_1_bn[0][0]          \n",
            "__________________________________________________________________________________________________\n",
            "conv4_block1_2_conv (Conv2D)    (None, 16, 16, 256)  590080      conv4_block1_1_relu[0][0]        \n",
            "__________________________________________________________________________________________________\n",
            "conv4_block1_2_bn (BatchNormali (None, 16, 16, 256)  1024        conv4_block1_2_conv[0][0]        \n",
            "__________________________________________________________________________________________________\n",
            "conv4_block1_2_relu (Activation (None, 16, 16, 256)  0           conv4_block1_2_bn[0][0]          \n",
            "__________________________________________________________________________________________________\n",
            "conv4_block1_0_conv (Conv2D)    (None, 16, 16, 1024) 525312      conv3_block4_out[0][0]           \n",
            "__________________________________________________________________________________________________\n",
            "conv4_block1_3_conv (Conv2D)    (None, 16, 16, 1024) 263168      conv4_block1_2_relu[0][0]        \n",
            "__________________________________________________________________________________________________\n",
            "conv4_block1_0_bn (BatchNormali (None, 16, 16, 1024) 4096        conv4_block1_0_conv[0][0]        \n",
            "__________________________________________________________________________________________________\n",
            "conv4_block1_3_bn (BatchNormali (None, 16, 16, 1024) 4096        conv4_block1_3_conv[0][0]        \n",
            "__________________________________________________________________________________________________\n",
            "conv4_block1_add (Add)          (None, 16, 16, 1024) 0           conv4_block1_0_bn[0][0]          \n",
            "                                                                 conv4_block1_3_bn[0][0]          \n",
            "__________________________________________________________________________________________________\n",
            "conv4_block1_out (Activation)   (None, 16, 16, 1024) 0           conv4_block1_add[0][0]           \n",
            "__________________________________________________________________________________________________\n",
            "conv4_block2_1_conv (Conv2D)    (None, 16, 16, 256)  262400      conv4_block1_out[0][0]           \n",
            "__________________________________________________________________________________________________\n",
            "conv4_block2_1_bn (BatchNormali (None, 16, 16, 256)  1024        conv4_block2_1_conv[0][0]        \n",
            "__________________________________________________________________________________________________\n",
            "conv4_block2_1_relu (Activation (None, 16, 16, 256)  0           conv4_block2_1_bn[0][0]          \n",
            "__________________________________________________________________________________________________\n",
            "conv4_block2_2_conv (Conv2D)    (None, 16, 16, 256)  590080      conv4_block2_1_relu[0][0]        \n",
            "__________________________________________________________________________________________________\n",
            "conv4_block2_2_bn (BatchNormali (None, 16, 16, 256)  1024        conv4_block2_2_conv[0][0]        \n",
            "__________________________________________________________________________________________________\n",
            "conv4_block2_2_relu (Activation (None, 16, 16, 256)  0           conv4_block2_2_bn[0][0]          \n",
            "__________________________________________________________________________________________________\n",
            "conv4_block2_3_conv (Conv2D)    (None, 16, 16, 1024) 263168      conv4_block2_2_relu[0][0]        \n",
            "__________________________________________________________________________________________________\n",
            "conv4_block2_3_bn (BatchNormali (None, 16, 16, 1024) 4096        conv4_block2_3_conv[0][0]        \n",
            "__________________________________________________________________________________________________\n",
            "conv4_block2_add (Add)          (None, 16, 16, 1024) 0           conv4_block1_out[0][0]           \n",
            "                                                                 conv4_block2_3_bn[0][0]          \n",
            "__________________________________________________________________________________________________\n",
            "conv4_block2_out (Activation)   (None, 16, 16, 1024) 0           conv4_block2_add[0][0]           \n",
            "__________________________________________________________________________________________________\n",
            "conv4_block3_1_conv (Conv2D)    (None, 16, 16, 256)  262400      conv4_block2_out[0][0]           \n",
            "__________________________________________________________________________________________________\n",
            "conv4_block3_1_bn (BatchNormali (None, 16, 16, 256)  1024        conv4_block3_1_conv[0][0]        \n",
            "__________________________________________________________________________________________________\n",
            "conv4_block3_1_relu (Activation (None, 16, 16, 256)  0           conv4_block3_1_bn[0][0]          \n",
            "__________________________________________________________________________________________________\n",
            "conv4_block3_2_conv (Conv2D)    (None, 16, 16, 256)  590080      conv4_block3_1_relu[0][0]        \n",
            "__________________________________________________________________________________________________\n",
            "conv4_block3_2_bn (BatchNormali (None, 16, 16, 256)  1024        conv4_block3_2_conv[0][0]        \n",
            "__________________________________________________________________________________________________\n",
            "conv4_block3_2_relu (Activation (None, 16, 16, 256)  0           conv4_block3_2_bn[0][0]          \n",
            "__________________________________________________________________________________________________\n",
            "conv4_block3_3_conv (Conv2D)    (None, 16, 16, 1024) 263168      conv4_block3_2_relu[0][0]        \n",
            "__________________________________________________________________________________________________\n",
            "conv4_block3_3_bn (BatchNormali (None, 16, 16, 1024) 4096        conv4_block3_3_conv[0][0]        \n",
            "__________________________________________________________________________________________________\n",
            "conv4_block3_add (Add)          (None, 16, 16, 1024) 0           conv4_block2_out[0][0]           \n",
            "                                                                 conv4_block3_3_bn[0][0]          \n",
            "__________________________________________________________________________________________________\n",
            "conv4_block3_out (Activation)   (None, 16, 16, 1024) 0           conv4_block3_add[0][0]           \n",
            "__________________________________________________________________________________________________\n",
            "conv4_block4_1_conv (Conv2D)    (None, 16, 16, 256)  262400      conv4_block3_out[0][0]           \n",
            "__________________________________________________________________________________________________\n",
            "conv4_block4_1_bn (BatchNormali (None, 16, 16, 256)  1024        conv4_block4_1_conv[0][0]        \n",
            "__________________________________________________________________________________________________\n",
            "conv4_block4_1_relu (Activation (None, 16, 16, 256)  0           conv4_block4_1_bn[0][0]          \n",
            "__________________________________________________________________________________________________\n",
            "conv4_block4_2_conv (Conv2D)    (None, 16, 16, 256)  590080      conv4_block4_1_relu[0][0]        \n",
            "__________________________________________________________________________________________________\n",
            "conv4_block4_2_bn (BatchNormali (None, 16, 16, 256)  1024        conv4_block4_2_conv[0][0]        \n",
            "__________________________________________________________________________________________________\n",
            "conv4_block4_2_relu (Activation (None, 16, 16, 256)  0           conv4_block4_2_bn[0][0]          \n",
            "__________________________________________________________________________________________________\n",
            "conv4_block4_3_conv (Conv2D)    (None, 16, 16, 1024) 263168      conv4_block4_2_relu[0][0]        \n",
            "__________________________________________________________________________________________________\n",
            "conv4_block4_3_bn (BatchNormali (None, 16, 16, 1024) 4096        conv4_block4_3_conv[0][0]        \n",
            "__________________________________________________________________________________________________\n",
            "conv4_block4_add (Add)          (None, 16, 16, 1024) 0           conv4_block3_out[0][0]           \n",
            "                                                                 conv4_block4_3_bn[0][0]          \n",
            "__________________________________________________________________________________________________\n",
            "conv4_block4_out (Activation)   (None, 16, 16, 1024) 0           conv4_block4_add[0][0]           \n",
            "__________________________________________________________________________________________________\n",
            "conv4_block5_1_conv (Conv2D)    (None, 16, 16, 256)  262400      conv4_block4_out[0][0]           \n",
            "__________________________________________________________________________________________________\n",
            "conv4_block5_1_bn (BatchNormali (None, 16, 16, 256)  1024        conv4_block5_1_conv[0][0]        \n",
            "__________________________________________________________________________________________________\n",
            "conv4_block5_1_relu (Activation (None, 16, 16, 256)  0           conv4_block5_1_bn[0][0]          \n",
            "__________________________________________________________________________________________________\n",
            "conv4_block5_2_conv (Conv2D)    (None, 16, 16, 256)  590080      conv4_block5_1_relu[0][0]        \n",
            "__________________________________________________________________________________________________\n",
            "conv4_block5_2_bn (BatchNormali (None, 16, 16, 256)  1024        conv4_block5_2_conv[0][0]        \n",
            "__________________________________________________________________________________________________\n",
            "conv4_block5_2_relu (Activation (None, 16, 16, 256)  0           conv4_block5_2_bn[0][0]          \n",
            "__________________________________________________________________________________________________\n",
            "conv4_block5_3_conv (Conv2D)    (None, 16, 16, 1024) 263168      conv4_block5_2_relu[0][0]        \n",
            "__________________________________________________________________________________________________\n",
            "conv4_block5_3_bn (BatchNormali (None, 16, 16, 1024) 4096        conv4_block5_3_conv[0][0]        \n",
            "__________________________________________________________________________________________________\n",
            "conv4_block5_add (Add)          (None, 16, 16, 1024) 0           conv4_block4_out[0][0]           \n",
            "                                                                 conv4_block5_3_bn[0][0]          \n",
            "__________________________________________________________________________________________________\n",
            "conv4_block5_out (Activation)   (None, 16, 16, 1024) 0           conv4_block5_add[0][0]           \n",
            "__________________________________________________________________________________________________\n",
            "conv4_block6_1_conv (Conv2D)    (None, 16, 16, 256)  262400      conv4_block5_out[0][0]           \n",
            "__________________________________________________________________________________________________\n",
            "conv4_block6_1_bn (BatchNormali (None, 16, 16, 256)  1024        conv4_block6_1_conv[0][0]        \n",
            "__________________________________________________________________________________________________\n",
            "conv4_block6_1_relu (Activation (None, 16, 16, 256)  0           conv4_block6_1_bn[0][0]          \n",
            "__________________________________________________________________________________________________\n",
            "conv4_block6_2_conv (Conv2D)    (None, 16, 16, 256)  590080      conv4_block6_1_relu[0][0]        \n",
            "__________________________________________________________________________________________________\n",
            "conv4_block6_2_bn (BatchNormali (None, 16, 16, 256)  1024        conv4_block6_2_conv[0][0]        \n",
            "__________________________________________________________________________________________________\n",
            "conv4_block6_2_relu (Activation (None, 16, 16, 256)  0           conv4_block6_2_bn[0][0]          \n",
            "__________________________________________________________________________________________________\n",
            "conv4_block6_3_conv (Conv2D)    (None, 16, 16, 1024) 263168      conv4_block6_2_relu[0][0]        \n",
            "__________________________________________________________________________________________________\n",
            "conv4_block6_3_bn (BatchNormali (None, 16, 16, 1024) 4096        conv4_block6_3_conv[0][0]        \n",
            "__________________________________________________________________________________________________\n",
            "conv4_block6_add (Add)          (None, 16, 16, 1024) 0           conv4_block5_out[0][0]           \n",
            "                                                                 conv4_block6_3_bn[0][0]          \n",
            "__________________________________________________________________________________________________\n",
            "conv4_block6_out (Activation)   (None, 16, 16, 1024) 0           conv4_block6_add[0][0]           \n",
            "__________________________________________________________________________________________________\n",
            "conv5_block1_1_conv (Conv2D)    (None, 8, 8, 512)    524800      conv4_block6_out[0][0]           \n",
            "__________________________________________________________________________________________________\n",
            "conv5_block1_1_bn (BatchNormali (None, 8, 8, 512)    2048        conv5_block1_1_conv[0][0]        \n",
            "__________________________________________________________________________________________________\n",
            "conv5_block1_1_relu (Activation (None, 8, 8, 512)    0           conv5_block1_1_bn[0][0]          \n",
            "__________________________________________________________________________________________________\n",
            "conv5_block1_2_conv (Conv2D)    (None, 8, 8, 512)    2359808     conv5_block1_1_relu[0][0]        \n",
            "__________________________________________________________________________________________________\n",
            "conv5_block1_2_bn (BatchNormali (None, 8, 8, 512)    2048        conv5_block1_2_conv[0][0]        \n",
            "__________________________________________________________________________________________________\n",
            "conv5_block1_2_relu (Activation (None, 8, 8, 512)    0           conv5_block1_2_bn[0][0]          \n",
            "__________________________________________________________________________________________________\n",
            "conv5_block1_0_conv (Conv2D)    (None, 8, 8, 2048)   2099200     conv4_block6_out[0][0]           \n",
            "__________________________________________________________________________________________________\n",
            "conv5_block1_3_conv (Conv2D)    (None, 8, 8, 2048)   1050624     conv5_block1_2_relu[0][0]        \n",
            "__________________________________________________________________________________________________\n",
            "conv5_block1_0_bn (BatchNormali (None, 8, 8, 2048)   8192        conv5_block1_0_conv[0][0]        \n",
            "__________________________________________________________________________________________________\n",
            "conv5_block1_3_bn (BatchNormali (None, 8, 8, 2048)   8192        conv5_block1_3_conv[0][0]        \n",
            "__________________________________________________________________________________________________\n",
            "conv5_block1_add (Add)          (None, 8, 8, 2048)   0           conv5_block1_0_bn[0][0]          \n",
            "                                                                 conv5_block1_3_bn[0][0]          \n",
            "__________________________________________________________________________________________________\n",
            "conv5_block1_out (Activation)   (None, 8, 8, 2048)   0           conv5_block1_add[0][0]           \n",
            "__________________________________________________________________________________________________\n",
            "conv5_block2_1_conv (Conv2D)    (None, 8, 8, 512)    1049088     conv5_block1_out[0][0]           \n",
            "__________________________________________________________________________________________________\n",
            "conv5_block2_1_bn (BatchNormali (None, 8, 8, 512)    2048        conv5_block2_1_conv[0][0]        \n",
            "__________________________________________________________________________________________________\n",
            "conv5_block2_1_relu (Activation (None, 8, 8, 512)    0           conv5_block2_1_bn[0][0]          \n",
            "__________________________________________________________________________________________________\n",
            "conv5_block2_2_conv (Conv2D)    (None, 8, 8, 512)    2359808     conv5_block2_1_relu[0][0]        \n",
            "__________________________________________________________________________________________________\n",
            "conv5_block2_2_bn (BatchNormali (None, 8, 8, 512)    2048        conv5_block2_2_conv[0][0]        \n",
            "__________________________________________________________________________________________________\n",
            "conv5_block2_2_relu (Activation (None, 8, 8, 512)    0           conv5_block2_2_bn[0][0]          \n",
            "__________________________________________________________________________________________________\n",
            "conv5_block2_3_conv (Conv2D)    (None, 8, 8, 2048)   1050624     conv5_block2_2_relu[0][0]        \n",
            "__________________________________________________________________________________________________\n",
            "conv5_block2_3_bn (BatchNormali (None, 8, 8, 2048)   8192        conv5_block2_3_conv[0][0]        \n",
            "__________________________________________________________________________________________________\n",
            "conv5_block2_add (Add)          (None, 8, 8, 2048)   0           conv5_block1_out[0][0]           \n",
            "                                                                 conv5_block2_3_bn[0][0]          \n",
            "__________________________________________________________________________________________________\n",
            "conv5_block2_out (Activation)   (None, 8, 8, 2048)   0           conv5_block2_add[0][0]           \n",
            "__________________________________________________________________________________________________\n",
            "conv5_block3_1_conv (Conv2D)    (None, 8, 8, 512)    1049088     conv5_block2_out[0][0]           \n",
            "__________________________________________________________________________________________________\n",
            "conv5_block3_1_bn (BatchNormali (None, 8, 8, 512)    2048        conv5_block3_1_conv[0][0]        \n",
            "__________________________________________________________________________________________________\n",
            "conv5_block3_1_relu (Activation (None, 8, 8, 512)    0           conv5_block3_1_bn[0][0]          \n",
            "__________________________________________________________________________________________________\n",
            "conv5_block3_2_conv (Conv2D)    (None, 8, 8, 512)    2359808     conv5_block3_1_relu[0][0]        \n",
            "__________________________________________________________________________________________________\n",
            "conv5_block3_2_bn (BatchNormali (None, 8, 8, 512)    2048        conv5_block3_2_conv[0][0]        \n",
            "__________________________________________________________________________________________________\n",
            "conv5_block3_2_relu (Activation (None, 8, 8, 512)    0           conv5_block3_2_bn[0][0]          \n",
            "__________________________________________________________________________________________________\n",
            "conv5_block3_3_conv (Conv2D)    (None, 8, 8, 2048)   1050624     conv5_block3_2_relu[0][0]        \n",
            "__________________________________________________________________________________________________\n",
            "conv5_block3_3_bn (BatchNormali (None, 8, 8, 2048)   8192        conv5_block3_3_conv[0][0]        \n",
            "__________________________________________________________________________________________________\n",
            "conv5_block3_add (Add)          (None, 8, 8, 2048)   0           conv5_block2_out[0][0]           \n",
            "                                                                 conv5_block3_3_bn[0][0]          \n",
            "__________________________________________________________________________________________________\n",
            "conv5_block3_out (Activation)   (None, 8, 8, 2048)   0           conv5_block3_add[0][0]           \n",
            "__________________________________________________________________________________________________\n",
            "global_average_pooling2d_3 (Glo (None, 2048)         0           conv5_block3_out[0][0]           \n",
            "__________________________________________________________________________________________________\n",
            "dense_5 (Dense)                 (None, 2)            4098        global_average_pooling2d_3[0][0] \n",
            "==================================================================================================\n",
            "Total params: 23,591,810\n",
            "Trainable params: 23,538,690\n",
            "Non-trainable params: 53,120\n",
            "__________________________________________________________________________________________________\n"
          ],
          "name": "stdout"
        }
      ]
    },
    {
      "cell_type": "code",
      "metadata": {
        "id": "TlrMQGuMl5qm"
      },
      "source": [
        "model.compile(#loss=tf.keras.losses.binary_crossentropy,\n",
        "              loss=tf.keras.losses.categorical_crossentropy,\n",
        "              optimizer=tf.keras.optimizers.Adam(),\n",
        "            #   metrics=[tf.keras.metrics.BinaryAccuracy(name=\"binary_acc\", threshold=0.5)],\n",
        "              metrics=['accuracy']\n",
        "              )"
      ],
      "execution_count": null,
      "outputs": []
    },
    {
      "cell_type": "code",
      "metadata": {
        "id": "tmIwgvJDl9Ul",
        "colab": {
          "base_uri": "https://localhost:8080/"
        },
        "outputId": "9bd6d7d7-6601-411e-c97a-63690c86b982"
      },
      "source": [
        "logs = model.fit(X_train, y_train,\n",
        "                 batch_size=32,\n",
        "                 epochs=50,\n",
        "                 verbose=1,\n",
        "                 validation_data=(X_test, y_test))"
      ],
      "execution_count": null,
      "outputs": [
        {
          "output_type": "stream",
          "text": [
            "Epoch 1/50\n",
            "27/27 [==============================] - 53s 489ms/step - loss: 1.0226 - accuracy: 0.8312 - val_loss: 0.5873 - val_accuracy: 0.8832\n",
            "Epoch 2/50\n",
            "27/27 [==============================] - 12s 463ms/step - loss: 0.3557 - accuracy: 0.8828 - val_loss: 0.5496 - val_accuracy: 0.8832\n",
            "Epoch 3/50\n",
            "27/27 [==============================] - 12s 448ms/step - loss: 0.3463 - accuracy: 0.8875 - val_loss: 0.3794 - val_accuracy: 0.8832\n",
            "Epoch 4/50\n",
            "27/27 [==============================] - 12s 441ms/step - loss: 0.3291 - accuracy: 0.8910 - val_loss: 0.4454 - val_accuracy: 0.8832\n",
            "Epoch 5/50\n",
            "27/27 [==============================] - 12s 436ms/step - loss: 0.3399 - accuracy: 0.8863 - val_loss: 0.4458 - val_accuracy: 0.8832\n",
            "Epoch 6/50\n",
            "27/27 [==============================] - 12s 435ms/step - loss: 0.3155 - accuracy: 0.8863 - val_loss: 0.3808 - val_accuracy: 0.8832\n",
            "Epoch 7/50\n",
            "27/27 [==============================] - 12s 439ms/step - loss: 0.3447 - accuracy: 0.8886 - val_loss: 0.4425 - val_accuracy: 0.8832\n",
            "Epoch 8/50\n",
            "27/27 [==============================] - 12s 443ms/step - loss: 0.3673 - accuracy: 0.8757 - val_loss: 0.3647 - val_accuracy: 0.8832\n",
            "Epoch 9/50\n",
            "27/27 [==============================] - 12s 445ms/step - loss: 0.3268 - accuracy: 0.8886 - val_loss: 0.9014 - val_accuracy: 0.8832\n",
            "Epoch 10/50\n",
            "27/27 [==============================] - 12s 446ms/step - loss: 0.3251 - accuracy: 0.8921 - val_loss: 19.3655 - val_accuracy: 0.8832\n",
            "Epoch 11/50\n",
            "27/27 [==============================] - 12s 444ms/step - loss: 0.3231 - accuracy: 0.8910 - val_loss: 0.3546 - val_accuracy: 0.8832\n",
            "Epoch 12/50\n",
            "27/27 [==============================] - 12s 441ms/step - loss: 0.2854 - accuracy: 0.8992 - val_loss: 0.4051 - val_accuracy: 0.8832\n",
            "Epoch 13/50\n",
            "27/27 [==============================] - 12s 440ms/step - loss: 0.2623 - accuracy: 0.8992 - val_loss: 0.4269 - val_accuracy: 0.8785\n",
            "Epoch 14/50\n",
            "27/27 [==============================] - 12s 440ms/step - loss: 0.2562 - accuracy: 0.9086 - val_loss: 0.4779 - val_accuracy: 0.7850\n",
            "Epoch 15/50\n",
            "27/27 [==============================] - 12s 441ms/step - loss: 0.3052 - accuracy: 0.8992 - val_loss: 0.3209 - val_accuracy: 0.8832\n",
            "Epoch 16/50\n",
            "27/27 [==============================] - 12s 443ms/step - loss: 0.2362 - accuracy: 0.9039 - val_loss: 0.5836 - val_accuracy: 0.8505\n",
            "Epoch 17/50\n",
            "27/27 [==============================] - 12s 444ms/step - loss: 0.2609 - accuracy: 0.9004 - val_loss: 0.4225 - val_accuracy: 0.8598\n",
            "Epoch 18/50\n",
            "27/27 [==============================] - 12s 442ms/step - loss: 0.2720 - accuracy: 0.9050 - val_loss: 3.4586 - val_accuracy: 0.8645\n",
            "Epoch 19/50\n",
            "27/27 [==============================] - 12s 443ms/step - loss: 0.2925 - accuracy: 0.8898 - val_loss: 0.5724 - val_accuracy: 0.8785\n",
            "Epoch 20/50\n",
            "27/27 [==============================] - 12s 443ms/step - loss: 0.2591 - accuracy: 0.8992 - val_loss: 0.9840 - val_accuracy: 0.8832\n",
            "Epoch 21/50\n",
            "27/27 [==============================] - 12s 442ms/step - loss: 0.2186 - accuracy: 0.9097 - val_loss: 0.6483 - val_accuracy: 0.8832\n",
            "Epoch 22/50\n",
            "27/27 [==============================] - 12s 442ms/step - loss: 0.2053 - accuracy: 0.9226 - val_loss: 0.4312 - val_accuracy: 0.9019\n",
            "Epoch 23/50\n",
            "27/27 [==============================] - 12s 458ms/step - loss: 0.2093 - accuracy: 0.9238 - val_loss: 0.4718 - val_accuracy: 0.8458\n",
            "Epoch 24/50\n",
            "27/27 [==============================] - 12s 442ms/step - loss: 0.2163 - accuracy: 0.9168 - val_loss: 0.5509 - val_accuracy: 0.8972\n",
            "Epoch 25/50\n",
            "27/27 [==============================] - 12s 443ms/step - loss: 0.1663 - accuracy: 0.9414 - val_loss: 0.5016 - val_accuracy: 0.9019\n",
            "Epoch 26/50\n",
            "27/27 [==============================] - 12s 443ms/step - loss: 0.1421 - accuracy: 0.9332 - val_loss: 0.5777 - val_accuracy: 0.8785\n",
            "Epoch 27/50\n",
            "27/27 [==============================] - 12s 442ms/step - loss: 0.1860 - accuracy: 0.9226 - val_loss: 0.4112 - val_accuracy: 0.8645\n",
            "Epoch 28/50\n",
            "27/27 [==============================] - 12s 443ms/step - loss: 0.1398 - accuracy: 0.9508 - val_loss: 0.3681 - val_accuracy: 0.8364\n",
            "Epoch 29/50\n",
            "27/27 [==============================] - 12s 442ms/step - loss: 0.1942 - accuracy: 0.9273 - val_loss: 0.5454 - val_accuracy: 0.8037\n",
            "Epoch 30/50\n",
            "27/27 [==============================] - 12s 442ms/step - loss: 0.1579 - accuracy: 0.9355 - val_loss: 0.4894 - val_accuracy: 0.8925\n",
            "Epoch 31/50\n",
            "27/27 [==============================] - 12s 443ms/step - loss: 0.1294 - accuracy: 0.9496 - val_loss: 1.3850 - val_accuracy: 0.7710\n",
            "Epoch 32/50\n",
            "27/27 [==============================] - 12s 443ms/step - loss: 0.1034 - accuracy: 0.9578 - val_loss: 1.5900 - val_accuracy: 0.8832\n",
            "Epoch 33/50\n",
            "27/27 [==============================] - 12s 442ms/step - loss: 0.0956 - accuracy: 0.9695 - val_loss: 1.1545 - val_accuracy: 0.8879\n",
            "Epoch 34/50\n",
            "27/27 [==============================] - 12s 442ms/step - loss: 0.1120 - accuracy: 0.9625 - val_loss: 4.8259 - val_accuracy: 0.8832\n",
            "Epoch 35/50\n",
            "27/27 [==============================] - 12s 443ms/step - loss: 0.0706 - accuracy: 0.9707 - val_loss: 0.7964 - val_accuracy: 0.8879\n",
            "Epoch 36/50\n",
            "27/27 [==============================] - 12s 442ms/step - loss: 0.1195 - accuracy: 0.9519 - val_loss: 0.9399 - val_accuracy: 0.8692\n",
            "Epoch 37/50\n",
            "27/27 [==============================] - 12s 443ms/step - loss: 0.0988 - accuracy: 0.9613 - val_loss: 0.4703 - val_accuracy: 0.8458\n",
            "Epoch 38/50\n",
            "27/27 [==============================] - 12s 442ms/step - loss: 0.0839 - accuracy: 0.9683 - val_loss: 0.4697 - val_accuracy: 0.8972\n",
            "Epoch 39/50\n",
            "27/27 [==============================] - 12s 441ms/step - loss: 0.0351 - accuracy: 0.9859 - val_loss: 0.3901 - val_accuracy: 0.8879\n",
            "Epoch 40/50\n",
            "27/27 [==============================] - 12s 441ms/step - loss: 0.0317 - accuracy: 0.9883 - val_loss: 0.3804 - val_accuracy: 0.8972\n",
            "Epoch 41/50\n",
            "27/27 [==============================] - 12s 440ms/step - loss: 0.0415 - accuracy: 0.9859 - val_loss: 0.3468 - val_accuracy: 0.9065\n",
            "Epoch 42/50\n",
            "27/27 [==============================] - 12s 442ms/step - loss: 0.0467 - accuracy: 0.9836 - val_loss: 1.7854 - val_accuracy: 0.8084\n",
            "Epoch 43/50\n",
            "27/27 [==============================] - 12s 442ms/step - loss: 0.0489 - accuracy: 0.9812 - val_loss: 0.7685 - val_accuracy: 0.8084\n",
            "Epoch 44/50\n",
            "27/27 [==============================] - 12s 444ms/step - loss: 0.0547 - accuracy: 0.9789 - val_loss: 0.4034 - val_accuracy: 0.8925\n",
            "Epoch 45/50\n",
            "27/27 [==============================] - 12s 444ms/step - loss: 0.0630 - accuracy: 0.9824 - val_loss: 1.3358 - val_accuracy: 0.8785\n",
            "Epoch 46/50\n",
            "27/27 [==============================] - 12s 442ms/step - loss: 0.0416 - accuracy: 0.9812 - val_loss: 3.0615 - val_accuracy: 0.9019\n",
            "Epoch 47/50\n",
            "27/27 [==============================] - 12s 440ms/step - loss: 0.0479 - accuracy: 0.9801 - val_loss: 15.3586 - val_accuracy: 0.8832\n",
            "Epoch 48/50\n",
            "27/27 [==============================] - 12s 439ms/step - loss: 0.0454 - accuracy: 0.9812 - val_loss: 17.5718 - val_accuracy: 0.8832\n",
            "Epoch 49/50\n",
            "27/27 [==============================] - 12s 441ms/step - loss: 0.0117 - accuracy: 0.9965 - val_loss: 0.4904 - val_accuracy: 0.9019\n",
            "Epoch 50/50\n",
            "27/27 [==============================] - 12s 441ms/step - loss: 0.0285 - accuracy: 0.9941 - val_loss: 0.4498 - val_accuracy: 0.8925\n"
          ],
          "name": "stdout"
        }
      ]
    },
    {
      "cell_type": "markdown",
      "metadata": {
        "id": "673D-Jn8tYmk"
      },
      "source": [
        "### Training logs"
      ]
    },
    {
      "cell_type": "code",
      "metadata": {
        "id": "9C1LAi_Bl_wG",
        "cellView": "both"
      },
      "source": [
        "\n",
        "history = logs.history"
      ],
      "execution_count": null,
      "outputs": []
    },
    {
      "cell_type": "code",
      "metadata": {
        "id": "EtV7nHnAnOUm",
        "colab": {
          "base_uri": "https://localhost:8080/",
          "height": 298
        },
        "outputId": "fa3ee094-02de-4aa9-a97c-75a613f2c24b"
      },
      "source": [
        "plt.plot(history['accuracy'])\n",
        "plt.plot(history['val_accuracy'])\n",
        "plt.legend(['accuracy', 'val_accuracy'])\n",
        "plt.title('accuracy')\n",
        "# plt.plot(history['binary_accuracy'])\n",
        "# plt.plot(history['val_binary_accuracy'])\n",
        "# plt.legend(['binary_accuracy', 'val_binary_accuracy'])\n",
        "# plt.title('binary_accuracy')"
      ],
      "execution_count": null,
      "outputs": [
        {
          "output_type": "execute_result",
          "data": {
            "text/plain": [
              "Text(0.5, 1.0, 'accuracy')"
            ]
          },
          "metadata": {
            "tags": []
          },
          "execution_count": 65
        },
        {
          "output_type": "display_data",
          "data": {
            "image/png": "[encoded data removed]",
            "text/plain": [
              "<Figure size 432x288 with 1 Axes>"
            ]
          },
          "metadata": {
            "tags": [],
            "needs_background": "light"
          }
        }
      ]
    },
    {
      "cell_type": "code",
      "metadata": {
        "id": "h_UGbXp2nQHj",
        "colab": {
          "base_uri": "https://localhost:8080/",
          "height": 298
        },
        "outputId": "160e93ef-1fd8-4cbb-914a-5b12b651baaa"
      },
      "source": [
        "plt.plot(history['loss'])\n",
        "plt.plot(history['val_loss'])\n",
        "plt.legend(['loss', 'val_loss'])\n",
        "plt.title('loss')"
      ],
      "execution_count": null,
      "outputs": [
        {
          "output_type": "execute_result",
          "data": {
            "text/plain": [
              "Text(0.5, 1.0, 'loss')"
            ]
          },
          "metadata": {
            "tags": []
          },
          "execution_count": 66
        },
        {
          "output_type": "display_data",
          "data": {
            "image/png": "[encoded data removed]",
            "text/plain": [
              "<Figure size 432x288 with 1 Axes>"
            ]
          },
          "metadata": {
            "tags": [],
            "needs_background": "light"
          }
        }
      ]
    },
    {
      "cell_type": "markdown",
      "metadata": {
        "id": "IOyVhhoIs0Vp"
      },
      "source": [
        "### Metrics"
      ]
    },
    {
      "cell_type": "code",
      "metadata": {
        "id": "1_cHYtN2nS6D",
        "colab": {
          "base_uri": "https://localhost:8080/"
        },
        "outputId": "a6de2aad-f612-46f9-d7c4-82e16f56b0dc"
      },
      "source": [
        "from sklearn.metrics import classification_report, confusion_matrix\n",
        "\n",
        "y_true = y_test\n",
        "prediction = model.predict(X_test)\n",
        "threshold = 0.5\n",
        "\n",
        "y_pred = np.where(prediction > threshold, 1, 0)\n",
        "\n",
        "print(y_true.shape, y_pred.shape)"
      ],
      "execution_count": null,
      "outputs": [
        {
          "output_type": "stream",
          "text": [
            "(214, 2) (214, 2)\n"
          ],
          "name": "stdout"
        }
      ]
    },
    {
      "cell_type": "code",
      "metadata": {
        "id": "xr8lzaQ7q--d",
        "colab": {
          "base_uri": "https://localhost:8080/"
        },
        "outputId": "8ddd7cda-f453-4d24-ea3f-071d46c413a4"
      },
      "source": [
        "# classification_report\n",
        "print(classification_report(y_true, y_pred))"
      ],
      "execution_count": null,
      "outputs": [
        {
          "output_type": "stream",
          "text": [
            "              precision    recall  f1-score   support\n",
            "\n",
            "           0       0.92      0.96      0.94       189\n",
            "           1       0.56      0.36      0.44        25\n",
            "\n",
            "   micro avg       0.89      0.89      0.89       214\n",
            "   macro avg       0.74      0.66      0.69       214\n",
            "weighted avg       0.88      0.89      0.88       214\n",
            " samples avg       0.89      0.89      0.89       214\n",
            "\n"
          ],
          "name": "stdout"
        }
      ]
    },
    {
      "cell_type": "code",
      "metadata": {
        "id": "IUPHDm0ErBo9"
      },
      "source": [
        "# Confusion matrix:\n",
        "#   row: Ground truth\n",
        "#   column: predict\n",
        "print(confusion_matrix(y_true, y_pred))"
      ],
      "execution_count": null,
      "outputs": []
    },
    {
      "cell_type": "code",
      "metadata": {
        "id": "8G15swbSnazY"
      },
      "source": [
        "from sklearn.metrics import roc_curve, auc"
      ],
      "execution_count": null,
      "outputs": []
    },
    {
      "cell_type": "code",
      "metadata": {
        "colab": {
          "base_uri": "https://localhost:8080/"
        },
        "id": "1rw-Lx7gEMJL",
        "outputId": "29ee8859-1f30-4cbd-ef4c-2f533202dd8e"
      },
      "source": [
        "\n",
        "y_true = np.argmax(y_true, axis=-1)\n",
        "prediction = prediction[:, 1]\n",
        "\n",
        "y_true.shape, prediction.shape"
      ],
      "execution_count": null,
      "outputs": [
        {
          "output_type": "execute_result",
          "data": {
            "text/plain": [
              "((214,), (214,))"
            ]
          },
          "metadata": {
            "tags": []
          },
          "execution_count": 83
        }
      ]
    },
    {
      "cell_type": "code",
      "metadata": {
        "id": "1vWs_j8vq9LF",
        "colab": {
          "base_uri": "https://localhost:8080/"
        },
        "outputId": "3e01315b-ae46-4ad3-b2fa-0aa893fdb817"
      },
      "source": [
        "\n",
        "fp_rate, tp_rate, threshold = roc_curve(y_true, prediction, drop_intermediate=False)\n",
        "print('False Positive rate: ', fp_rate)\n",
        "print('True Positive rate: ', tp_rate)\n",
        "print('Threshold: ', threshold)"
      ],
      "execution_count": null,
      "outputs": [
        {
          "output_type": "stream",
          "text": [
            "False Positive rate:  [0.         0.         0.         0.         0.         0.\n",
            " 0.         0.00529101 0.00529101 0.01058201 0.01587302 0.01587302\n",
            " 0.02116402 0.02645503 0.03174603 0.03703704 0.03703704 0.04232804\n",
            " 0.04761905 0.04761905 0.05291005 0.05291005 0.05820106 0.06349206\n",
            " 0.06349206 0.06349206 0.06878307 0.07407407 0.07936508 0.08465608\n",
            " 0.08465608 0.08994709 0.08994709 0.0952381  0.0952381  0.1005291\n",
            " 0.10582011 0.11111111 0.11640212 0.12169312 0.12698413 0.12698413\n",
            " 0.13227513 0.13756614 0.14285714 0.14814815 0.15343915 0.15873016\n",
            " 0.16402116 0.16931217 0.17460317 0.17989418 0.18518519 0.19047619\n",
            " 0.1957672  0.2010582  0.2010582  0.2010582  0.2010582  0.20634921\n",
            " 0.21164021 0.21693122 0.22222222 0.22751323 0.23280423 0.23809524\n",
            " 0.24338624 0.24867725 0.25396825 0.25396825 0.25925926 0.26455026\n",
            " 0.26984127 0.27513228 0.28042328 0.28571429 0.29100529 0.2962963\n",
            " 0.3015873  0.30687831 0.31216931 0.31746032 0.32275132 0.32804233\n",
            " 0.33333333 0.33862434 0.34391534 0.34920635 0.35449735 0.35978836\n",
            " 0.35978836 0.36507937 0.37037037 0.37566138 0.38095238 0.38624339\n",
            " 0.39153439 0.3968254  0.4021164  0.40740741 0.40740741 0.41269841\n",
            " 0.41798942 0.42328042 0.42857143 0.43386243 0.43915344 0.44444444\n",
            " 0.44973545 0.45502646 0.45502646 0.46031746 0.46560847 0.47089947\n",
            " 0.47619048 0.48148148 0.48677249 0.49206349 0.4973545  0.5026455\n",
            " 0.50793651 0.51322751 0.51851852 0.52380952 0.52910053 0.53439153\n",
            " 0.53439153 0.53968254 0.54497354 0.55026455 0.55555556 0.56084656\n",
            " 0.56613757 0.57142857 0.57671958 0.58201058 0.58730159 0.59259259\n",
            " 0.5978836  0.6031746  0.60846561 0.61375661 0.61904762 0.62433862\n",
            " 0.62962963 0.63492063 0.64021164 0.64550265 0.65079365 0.65608466\n",
            " 0.66137566 0.66666667 0.67195767 0.67724868 0.68253968 0.68783069\n",
            " 0.69312169 0.6984127  0.7037037  0.70899471 0.71428571 0.71957672\n",
            " 0.72486772 0.73015873 0.73544974 0.74074074 0.74603175 0.75132275\n",
            " 0.75661376 0.76190476 0.76719577 0.77248677 0.77777778 0.78306878\n",
            " 0.78835979 0.79365079 0.7989418  0.8042328  0.80952381 0.81481481\n",
            " 0.82010582 0.82539683 0.83068783 0.83597884 0.84126984 0.84656085\n",
            " 0.85185185 0.85714286 0.86243386 0.86772487 0.87301587 0.87830688\n",
            " 0.88359788 0.88888889 0.89417989 0.8994709  0.9047619  0.91005291\n",
            " 0.91534392 0.92063492 0.92592593 0.93121693 0.93650794 0.94179894\n",
            " 0.94708995 0.95238095 0.95767196 0.96296296 0.96825397 0.97354497\n",
            " 0.97883598 0.98412698 0.98941799 0.99470899 1.        ]\n",
            "True Positive rate:  [0.   0.04 0.08 0.12 0.16 0.2  0.24 0.24 0.28 0.28 0.28 0.32 0.32 0.32\n",
            " 0.32 0.32 0.36 0.36 0.36 0.4  0.4  0.44 0.44 0.44 0.48 0.52 0.52 0.52\n",
            " 0.52 0.52 0.56 0.56 0.6  0.6  0.64 0.64 0.64 0.64 0.64 0.64 0.64 0.68\n",
            " 0.68 0.68 0.68 0.68 0.68 0.68 0.68 0.68 0.68 0.68 0.68 0.68 0.68 0.68\n",
            " 0.72 0.76 0.8  0.8  0.8  0.8  0.8  0.8  0.8  0.8  0.8  0.8  0.8  0.84\n",
            " 0.84 0.84 0.84 0.84 0.84 0.84 0.84 0.84 0.84 0.84 0.84 0.84 0.84 0.84\n",
            " 0.84 0.84 0.84 0.84 0.84 0.84 0.88 0.88 0.88 0.88 0.88 0.88 0.88 0.88\n",
            " 0.88 0.88 0.92 0.92 0.92 0.92 0.92 0.92 0.92 0.92 0.92 0.92 0.96 0.96\n",
            " 0.96 0.96 0.96 0.96 0.96 0.96 0.96 0.96 0.96 0.96 0.96 0.96 0.96 0.96\n",
            " 1.   1.   1.   1.   1.   1.   1.   1.   1.   1.   1.   1.   1.   1.\n",
            " 1.   1.   1.   1.   1.   1.   1.   1.   1.   1.   1.   1.   1.   1.\n",
            " 1.   1.   1.   1.   1.   1.   1.   1.   1.   1.   1.   1.   1.   1.\n",
            " 1.   1.   1.   1.   1.   1.   1.   1.   1.   1.   1.   1.   1.   1.\n",
            " 1.   1.   1.   1.   1.   1.   1.   1.   1.   1.   1.   1.   1.   1.\n",
            " 1.   1.   1.   1.   1.   1.   1.   1.   1.   1.   1.   1.   1.   1.\n",
            " 1.   1.   1.   1.   1.  ]\n",
            "Threshold:  [1.99998438e+00 9.99984384e-01 9.99975204e-01 9.99859214e-01\n",
            " 9.99857903e-01 9.99637723e-01 9.94846106e-01 9.94539559e-01\n",
            " 9.94017959e-01 8.76637757e-01 8.72982264e-01 8.25509667e-01\n",
            " 7.99032986e-01 7.77990222e-01 6.91913128e-01 5.76285362e-01\n",
            " 5.48404932e-01 4.99571085e-01 3.69282007e-01 3.68486077e-01\n",
            " 3.65314931e-01 3.51428568e-01 3.51073653e-01 3.29662621e-01\n",
            " 3.08578670e-01 2.61869997e-01 2.45889977e-01 2.25968853e-01\n",
            " 1.85850799e-01 1.22600101e-01 1.13460109e-01 1.13177337e-01\n",
            " 1.06438808e-01 1.02846630e-01 9.71675888e-02 8.93346444e-02\n",
            " 6.39531463e-02 4.59041856e-02 4.51177247e-02 3.86091433e-02\n",
            " 3.82134877e-02 2.85494309e-02 2.66942978e-02 2.14570444e-02\n",
            " 2.11662818e-02 1.82919484e-02 1.35810496e-02 1.35505758e-02\n",
            " 1.34320278e-02 1.29868053e-02 1.24534480e-02 1.24307834e-02\n",
            " 8.19457602e-03 7.80811254e-03 7.03928573e-03 6.52373582e-03\n",
            " 5.34713501e-03 5.07705193e-03 4.31197276e-03 3.93322622e-03\n",
            " 3.93118756e-03 3.70324985e-03 3.49785108e-03 3.20165395e-03\n",
            " 2.44767219e-03 2.36284640e-03 2.16609496e-03 2.08300748e-03\n",
            " 1.95005897e-03 1.63330836e-03 1.31161045e-03 1.08321966e-03\n",
            " 9.64032195e-04 9.40650818e-04 8.09157442e-04 7.89665093e-04\n",
            " 7.88977195e-04 7.87844241e-04 6.90496818e-04 6.13640004e-04\n",
            " 5.30606892e-04 5.07387158e-04 4.72854474e-04 4.17953910e-04\n",
            " 3.43832915e-04 3.38981219e-04 2.71375757e-04 2.37339787e-04\n",
            " 1.90052015e-04 1.52952140e-04 1.52071443e-04 1.31876019e-04\n",
            " 1.28339540e-04 1.23538222e-04 1.22525758e-04 1.17517564e-04\n",
            " 1.09641282e-04 1.02524660e-04 9.51549664e-05 8.08471232e-05\n",
            " 6.71923772e-05 6.61366066e-05 6.23078377e-05 6.04452143e-05\n",
            " 5.29567296e-05 5.01765862e-05 4.69034312e-05 4.53215216e-05\n",
            " 4.52754284e-05 4.37231101e-05 4.36916016e-05 4.32134912e-05\n",
            " 4.14970127e-05 4.01022226e-05 3.87000910e-05 3.23981585e-05\n",
            " 2.89554209e-05 2.59535191e-05 2.57366755e-05 2.24900832e-05\n",
            " 2.24286377e-05 2.15225155e-05 1.79055878e-05 1.74321121e-05\n",
            " 1.67083526e-05 1.64104749e-05 1.42989575e-05 1.34698130e-05\n",
            " 1.25607439e-05 1.24294529e-05 1.22712399e-05 1.15852254e-05\n",
            " 1.09921339e-05 1.08309687e-05 1.07187097e-05 1.01245241e-05\n",
            " 9.51766742e-06 9.03524506e-06 8.30822319e-06 7.72512522e-06\n",
            " 7.10298582e-06 6.32975070e-06 4.98204417e-06 3.80149231e-06\n",
            " 3.74108231e-06 3.42414342e-06 3.28615306e-06 3.28583337e-06\n",
            " 2.88584874e-06 2.81829648e-06 2.21142636e-06 1.95493249e-06\n",
            " 1.29719683e-06 1.23921848e-06 1.00493492e-06 9.67939854e-07\n",
            " 8.73635656e-07 7.98156464e-07 7.82379971e-07 6.73882880e-07\n",
            " 4.64791043e-07 4.27347231e-07 2.94794432e-07 2.81154826e-07\n",
            " 2.30107844e-07 1.30848946e-07 1.21931365e-07 1.20184751e-07\n",
            " 1.12330156e-07 1.09953241e-07 1.07100348e-07 1.04556328e-07\n",
            " 7.93088120e-08 7.73119098e-08 6.82243950e-08 6.70251339e-08\n",
            " 6.43435740e-08 5.27260724e-08 3.68681725e-08 1.95679934e-08\n",
            " 1.68291372e-08 8.31331182e-09 7.03786318e-09 7.02726677e-09\n",
            " 6.65158195e-09 5.39306111e-09 3.85176291e-09 1.67275216e-09\n",
            " 1.22983013e-09 1.05514453e-09 7.09941994e-10 5.73896486e-10\n",
            " 1.17657065e-10 8.27909269e-11 7.22316443e-11 5.81432437e-11\n",
            " 4.03247644e-11 2.97798175e-11 2.19352800e-11 1.56294144e-11\n",
            " 1.73892671e-12 1.98823895e-13 1.82969620e-13 1.05796970e-13\n",
            " 9.77648680e-14 7.92975372e-14 1.74522642e-16 2.69001348e-18\n",
            " 3.75767705e-19 2.70990030e-19 3.91194262e-20 2.14792704e-23\n",
            " 1.55757369e-25 6.47733556e-37 0.00000000e+00]\n"
          ],
          "name": "stdout"
        }
      ]
    },
    {
      "cell_type": "code",
      "metadata": {
        "id": "VI4mP548yg_S",
        "colab": {
          "base_uri": "https://localhost:8080/"
        },
        "outputId": "689cd9d9-f87d-4f73-f0c7-2085327dd117"
      },
      "source": [
        "len(fp_rate)"
      ],
      "execution_count": null,
      "outputs": [
        {
          "output_type": "execute_result",
          "data": {
            "text/plain": [
              "215"
            ]
          },
          "metadata": {
            "tags": []
          },
          "execution_count": 85
        }
      ]
    },
    {
      "cell_type": "code",
      "metadata": {
        "id": "b70bbzcSk_mR",
        "colab": {
          "base_uri": "https://localhost:8080/"
        },
        "outputId": "3d166df0-7912-49dc-c458-e14b307ae11e"
      },
      "source": [
        "# AUC \n",
        "auc_score = auc(fp_rate, tp_rate)\n",
        "print(f'auc: {auc_score}')"
      ],
      "execution_count": null,
      "outputs": [
        {
          "output_type": "stream",
          "text": [
            "auc: 0.8681481481481482\n"
          ],
          "name": "stdout"
        }
      ]
    },
    {
      "cell_type": "code",
      "metadata": {
        "id": "w7Snfky8lHSn",
        "colab": {
          "base_uri": "https://localhost:8080/",
          "height": 295
        },
        "outputId": "59809914-e2f3-4b09-88a6-cdab81cd81cc"
      },
      "source": [
        "# ROC curve\n",
        "plt.xlabel('False Positive Rate (FPR) 1-Specificity')\n",
        "plt.ylabel('True Positive Rate (TPR) Sensitivity')\n",
        "plt.plot(fp_rate, tp_rate)\n",
        "plt.title('ROC curve')\n",
        "plt.show()"
      ],
      "execution_count": null,
      "outputs": [
        {
          "output_type": "display_data",
          "data": {
            "image/png": "[encoded data removed]",
            "text/plain": [
              "<Figure size 432x288 with 1 Axes>"
            ]
          },
          "metadata": {
            "tags": [],
            "needs_background": "light"
          }
        }
      ]
    },
    {
      "cell_type": "code",
      "metadata": {
        "id": "KOLsugG5-XNo"
      },
      "source": [
        ""
      ],
      "execution_count": null,
      "outputs": []
    },
    {
      "cell_type": "markdown",
      "metadata": {
        "id": "99Ko7ielnMLj"
      },
      "source": [
        "#### Save model"
      ]
    },
    {
      "cell_type": "code",
      "metadata": {
        "id": "bU_uotJunNqs"
      },
      "source": [
        "# 1. save whole model and weights\n",
        "model.save('my_model.h5')\n",
        "\n",
        "model2 = models.load_model('my_model.h5')\n",
        "# mode1 = model2"
      ],
      "execution_count": null,
      "outputs": []
    },
    {
      "cell_type": "code",
      "metadata": {
        "id": "5nPUG3uMnWKY"
      },
      "source": [
        "# 2. save and load weights only\n",
        "model.save_weights('my_model_weights.h5')\n",
        "\n",
        "# Rebuild model before load weights !\n",
        "model2 = build_model()\n",
        "model2.load_weights('my_model_weights.h5')\n",
        "\n",
        "# model = model2"
      ],
      "execution_count": null,
      "outputs": []
    },
    {
      "cell_type": "markdown",
      "metadata": {
        "id": "i3y3x67cBoIa"
      },
      "source": [
        "# binary classification \n",
        "0: Free\n",
        "1 : defect 1+2+3\n",
        "\n",
        "# 多分類\n",
        "0: free\n",
        "1: defect 1\n",
        "2: defect 2\n",
        "\n",
        "0: free\n",
        "1: defect 1 + defect 2\n",
        "2: defect 3 + 4\n",
        "\n",
        "0: defect 1 + 2\n",
        "1: defect 3 + 4"
      ]
    },
    {
      "cell_type": "code",
      "metadata": {
        "id": "qlcsndz6CYap"
      },
      "source": [
        ""
      ],
      "execution_count": null,
      "outputs": []
    }
  ]
}