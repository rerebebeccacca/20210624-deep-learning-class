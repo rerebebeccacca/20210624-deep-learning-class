{
  "nbformat": 4,
  "nbformat_minor": 0,
  "metadata": {
    "colab": {
      "name": "01_RNN basic.ipynb",
      "provenance": [],
      "collapsed_sections": [],
      "include_colab_link": true
    },
    "kernelspec": {
      "name": "python3",
      "display_name": "Python 3"
    }
  },
  "cells": [
    {
      "cell_type": "markdown",
      "metadata": {
        "id": "view-in-github",
        "colab_type": "text"
      },
      "source": [
        "<a href=\"https://colab.research.google.com/github/rerebebeccacca/20210624-deep-learning-class/blob/main/01_RNN_basic.ipynb\" target=\"_parent\"><img src=\"https://colab.research.google.com/assets/colab-badge.svg\" alt=\"Open In Colab\"/></a>"
      ]
    },
    {
      "cell_type": "code",
      "metadata": {
        "id": "7MQTJpgXIZTb"
      },
      "source": [
        "import tensorflow as tf\n",
        "from tensorflow.keras import layers, models"
      ],
      "execution_count": null,
      "outputs": []
    },
    {
      "cell_type": "code",
      "metadata": {
        "id": "MyuU_zLAQTZ2"
      },
      "source": [
        "# Sample: 1(幾個資料)\n",
        "# Sequence Length: 5（幾個序列）\n",
        "# feature dimension: 8（幾個特徵值）\n",
        "\n",
        "inputs = tf.random.normal([1, 5, 8])"
      ],
      "execution_count": null,
      "outputs": []
    },
    {
      "cell_type": "markdown",
      "metadata": {
        "id": "atmpBvPyLWCJ"
      },
      "source": [
        "# tf.keras.layers.LSTM"
      ]
    },
    {
      "cell_type": "code",
      "metadata": {
        "id": "ad4M9eEwIddc",
        "colab": {
          "base_uri": "https://localhost:8080/"
        },
        "outputId": "761711d6-45b6-409b-d403-4be322d94b7f"
      },
      "source": [
        "output = layers.LSTM(units=3)(inputs)\n",
        "# output = layers.LSTM(units=3, return_sequences=True)(inputs)\n",
        "print(output.shape)"
      ],
      "execution_count": null,
      "outputs": [
        {
          "output_type": "stream",
          "text": [
            "(1, 5, 3)\n"
          ],
          "name": "stdout"
        }
      ]
    },
    {
      "cell_type": "code",
      "metadata": {
        "id": "_t8D3p7dJ0vg",
        "colab": {
          "base_uri": "https://localhost:8080/"
        },
        "outputId": "d5a27e89-c528-405c-aa20-3c816bdcf45f"
      },
      "source": [
        "whole_seq_output, final_hiden_state, final_cell_state = layers.LSTM(3, \n",
        "                                                                    return_sequences=True, \n",
        "                                                                    return_state=True)(inputs)\n",
        "\n",
        "print('whole_seq_output: ', whole_seq_output.shape, whole_seq_output)\n",
        "print('final_hiden_state (h): ', final_hiden_state.shape, final_hiden_state)\n",
        "print('final_cell_state (c): ', final_cell_state.shape, final_cell_state)"
      ],
      "execution_count": null,
      "outputs": [
        {
          "output_type": "stream",
          "text": [
            "whole_seq_output:  (1, 5, 3) tf.Tensor(\n",
            "[[[-0.08274251  0.03847694 -0.08997072]\n",
            "  [-0.18739657  0.03410421 -0.05226758]\n",
            "  [-0.12741375 -0.1293194   0.15615012]\n",
            "  [-0.29839787 -0.13747336  0.1279253 ]\n",
            "  [-0.24881704 -0.22742642  0.30899817]]], shape=(1, 5, 3), dtype=float32)\n",
            "final_hiden_state (h):  (1, 3) tf.Tensor([[-0.24881704 -0.22742642  0.30899817]], shape=(1, 3), dtype=float32)\n",
            "final_cell_state (c):  (1, 3) tf.Tensor([[-0.5390483  -0.49398562  0.38973188]], shape=(1, 3), dtype=float32)\n"
          ],
          "name": "stdout"
        }
      ]
    },
    {
      "cell_type": "markdown",
      "metadata": {
        "id": "Cf8aLad2LX9w"
      },
      "source": [
        "# tf.keras.layers.GRU"
      ]
    },
    {
      "cell_type": "code",
      "metadata": {
        "id": "9xxagyy9LYt_",
        "colab": {
          "base_uri": "https://localhost:8080/"
        },
        "outputId": "c3a31995-b899-46c8-d985-78cc38593b63"
      },
      "source": [
        "output = layers.GRU(units=3)(inputs)\n",
        "print(output.shape)"
      ],
      "execution_count": null,
      "outputs": [
        {
          "output_type": "stream",
          "text": [
            "(1, 3)\n"
          ],
          "name": "stdout"
        }
      ]
    },
    {
      "cell_type": "code",
      "metadata": {
        "id": "x2THpViELlO5",
        "colab": {
          "base_uri": "https://localhost:8080/"
        },
        "outputId": "cc61a327-b618-4a44-909d-b4820538944c"
      },
      "source": [
        "whole_sequence_output, final_state = layers.GRU(3, \n",
        "                                                return_sequences=True, \n",
        "                                                return_state=True)(inputs)\n",
        "\n",
        "print('whole_seq_output: ', whole_sequence_output.shape, whole_sequence_output)\n",
        "print('final_state (h): ', final_state.shape, final_state)"
      ],
      "execution_count": null,
      "outputs": [
        {
          "output_type": "stream",
          "text": [
            "whole_seq_output:  (1, 5, 3) tf.Tensor(\n",
            "[[[-0.5560607   0.28374246  0.25326866]\n",
            "  [ 0.0085808   0.11775172 -0.08572333]\n",
            "  [ 0.2007084   0.2633381   0.1924465 ]\n",
            "  [ 0.02568759  0.14472397  0.39672026]\n",
            "  [ 0.50060195 -0.08630495 -0.14830774]]], shape=(1, 5, 3), dtype=float32)\n",
            "final_state (h):  (1, 3) tf.Tensor([[ 0.50060195 -0.08630495 -0.14830774]], shape=(1, 3), dtype=float32)\n"
          ],
          "name": "stdout"
        }
      ]
    },
    {
      "cell_type": "markdown",
      "metadata": {
        "id": "BLcEAbfIM7IT"
      },
      "source": [
        "# tf.keras.layers.Bidirectional"
      ]
    },
    {
      "cell_type": "code",
      "metadata": {
        "id": "8aDkLkxeM-XQ",
        "colab": {
          "base_uri": "https://localhost:8080/"
        },
        "outputId": "5c1581f6-e814-4103-e8eb-1961bec6327d"
      },
      "source": [
        "output = layers.Bidirectional(layers.LSTM(3))(inputs)\n",
        "print(output.shape)"
      ],
      "execution_count": null,
      "outputs": [
        {
          "output_type": "stream",
          "text": [
            "(1, 6)\n"
          ],
          "name": "stdout"
        }
      ]
    },
    {
      "cell_type": "code",
      "metadata": {
        "id": "fMQkgBJ3NYeO",
        "colab": {
          "base_uri": "https://localhost:8080/"
        },
        "outputId": "56ea8621-a80f-4900-a735-bd9290285c63"
      },
      "source": [
        "# merge_mode: Sum\n",
        "output = layers.Bidirectional(layers.LSTM(3), \n",
        "                              merge_mode='sum')(inputs)\n",
        "print(output.shape)"
      ],
      "execution_count": null,
      "outputs": [
        {
          "output_type": "stream",
          "text": [
            "(1, 3)\n"
          ],
          "name": "stdout"
        }
      ]
    },
    {
      "cell_type": "code",
      "metadata": {
        "id": "pbBbk7e7NqOK",
        "colab": {
          "base_uri": "https://localhost:8080/"
        },
        "outputId": "56064d6c-326f-4845-dfb1-5f1f7d2a419e"
      },
      "source": [
        "# return_sequences: True\n",
        "output = layers.Bidirectional(layers.LSTM(10, return_sequences=True))(inputs)\n",
        "print(output.shape)"
      ],
      "execution_count": null,
      "outputs": [
        {
          "output_type": "stream",
          "text": [
            "(1, 5, 20)\n"
          ],
          "name": "stdout"
        }
      ]
    },
    {
      "cell_type": "code",
      "metadata": {
        "id": "u3Kh1ZkPNwtA",
        "colab": {
          "base_uri": "https://localhost:8080/"
        },
        "outputId": "bf3202e7-ea25-41f0-f0bc-5ded0a3f6883"
      },
      "source": [
        "# return_sequences: True, \n",
        "output, forward_h, forward_c, backward_h, backward_c = layers.Bidirectional(layers.LSTM(2, return_sequences=True, return_state=True))(inputs)\n",
        "print('output : ', output.shape, output)\n",
        "print('forward_h : ', forward_h.shape, forward_h)\n",
        "print('forward_c : ', forward_c.shape, forward_c)\n",
        "print('backward_h : ', backward_h.shape, backward_h)\n",
        "print('backward_c : ', backward_c.shape, backward_c)\n"
      ],
      "execution_count": null,
      "outputs": [
        {
          "output_type": "stream",
          "text": [
            "output :  (1, 5, 4) tf.Tensor(\n",
            "[[[-0.4258836  -0.41512123  0.17933066  0.25858796]\n",
            "  [-0.13122877 -0.10636536 -0.00643803  0.3362214 ]\n",
            "  [-0.2668728  -0.23809105 -0.06205915  0.03952498]\n",
            "  [-0.2913185  -0.15018088 -0.10638423  0.03257701]\n",
            "  [-0.13747233 -0.14221376 -0.03071847  0.12122328]]], shape=(1, 5, 4), dtype=float32)\n",
            "forward_h :  (1, 2) tf.Tensor([[-0.13747233 -0.14221376]], shape=(1, 2), dtype=float32)\n",
            "forward_c :  (1, 2) tf.Tensor([[-1.0977627  -0.19781554]], shape=(1, 2), dtype=float32)\n",
            "backward_h :  (1, 2) tf.Tensor([[0.17933066 0.25858796]], shape=(1, 2), dtype=float32)\n",
            "backward_c :  (1, 2) tf.Tensor([[0.4359826 0.6157264]], shape=(1, 2), dtype=float32)\n"
          ],
          "name": "stdout"
        }
      ]
    },
    {
      "cell_type": "markdown",
      "metadata": {
        "id": "kLmti2QISYyV"
      },
      "source": [
        "## Many-to-one"
      ]
    },
    {
      "cell_type": "code",
      "metadata": {
        "id": "mLX9Rho9SbbC",
        "colab": {
          "base_uri": "https://localhost:8080/"
        },
        "outputId": "f524b877-9191-4e06-b2ff-8ef87817140c"
      },
      "source": [
        "input = layers.Input(shape=(5, 8))\n",
        "x = layers.LSTM(2)(input)\n",
        "ouput = layers.Dense(10, activation='softmax')(x)\n",
        "model = models.Model(input, ouput)\n",
        "model.summary()"
      ],
      "execution_count": null,
      "outputs": [
        {
          "output_type": "stream",
          "text": [
            "Model: \"model_2\"\n",
            "_________________________________________________________________\n",
            "Layer (type)                 Output Shape              Param #   \n",
            "=================================================================\n",
            "input_3 (InputLayer)         [(None, 5, 8)]            0         \n",
            "_________________________________________________________________\n",
            "lstm_7 (LSTM)                (None, 2)                 88        \n",
            "_________________________________________________________________\n",
            "dense_2 (Dense)              (None, 10)                30        \n",
            "=================================================================\n",
            "Total params: 118\n",
            "Trainable params: 118\n",
            "Non-trainable params: 0\n",
            "_________________________________________________________________\n"
          ],
          "name": "stdout"
        }
      ]
    },
    {
      "cell_type": "code",
      "metadata": {
        "id": "XT1W5B-2Td0m",
        "colab": {
          "base_uri": "https://localhost:8080/"
        },
        "outputId": "a480da09-b79e-456a-b97a-fa4bdf661a5d"
      },
      "source": [
        "# multi-layer\n",
        "input = layers.Input(shape=(5, 8))\n",
        "x1 = layers.LSTM(128, return_sequences=True)(input)\n",
        "x2 = layers.LSTM(256, return_sequences=True)(x1)\n",
        "x3 = layers.LSTM(10)(x2)\n",
        "ouput = layers.Dense(10, activation='softmax')(x3)\n",
        "model = models.Model(input, ouput)\n",
        "model.summary()"
      ],
      "execution_count": null,
      "outputs": [
        {
          "output_type": "stream",
          "text": [
            "Model: \"functional_7\"\n",
            "_________________________________________________________________\n",
            "Layer (type)                 Output Shape              Param #   \n",
            "=================================================================\n",
            "input_5 (InputLayer)         [(None, 5, 8)]            0         \n",
            "_________________________________________________________________\n",
            "lstm_20 (LSTM)               (None, 5, 128)            70144     \n",
            "_________________________________________________________________\n",
            "lstm_21 (LSTM)               (None, 5, 256)            394240    \n",
            "_________________________________________________________________\n",
            "lstm_22 (LSTM)               (None, 10)                10680     \n",
            "_________________________________________________________________\n",
            "dense_3 (Dense)              (None, 10)                110       \n",
            "=================================================================\n",
            "Total params: 475,174\n",
            "Trainable params: 475,174\n",
            "Non-trainable params: 0\n",
            "_________________________________________________________________\n"
          ],
          "name": "stdout"
        }
      ]
    },
    {
      "cell_type": "code",
      "metadata": {
        "id": "XNoebK2JTsMN"
      },
      "source": [
        ""
      ],
      "execution_count": null,
      "outputs": []
    },
    {
      "cell_type": "markdown",
      "metadata": {
        "id": "xgYNk_0dUVyE"
      },
      "source": [
        "# Many-to-many (same length)"
      ]
    },
    {
      "cell_type": "code",
      "metadata": {
        "id": "3ThPhdZVUkRM",
        "colab": {
          "base_uri": "https://localhost:8080/"
        },
        "outputId": "524392ad-f26e-4795-c5e2-862dccedb8fc"
      },
      "source": [
        "input = layers.Input(shape=(50, 8))\n",
        "x = layers.LSTM(10, return_sequences=True)(input)\n",
        "output = layers.Dense(20, activation='softmax')(x)\n",
        "# output = layers.TimeDistributed(layers.Dense(20, activation='softmax'))(x)\n",
        "model = models.Model(input, output)\n",
        "model.summary()"
      ],
      "execution_count": null,
      "outputs": [
        {
          "output_type": "stream",
          "text": [
            "Model: \"functional_9\"\n",
            "_________________________________________________________________\n",
            "Layer (type)                 Output Shape              Param #   \n",
            "=================================================================\n",
            "input_6 (InputLayer)         [(None, 50, 8)]           0         \n",
            "_________________________________________________________________\n",
            "lstm_23 (LSTM)               (None, 50, 10)            760       \n",
            "_________________________________________________________________\n",
            "dense_4 (Dense)              (None, 50, 20)            220       \n",
            "=================================================================\n",
            "Total params: 980\n",
            "Trainable params: 980\n",
            "Non-trainable params: 0\n",
            "_________________________________________________________________\n"
          ],
          "name": "stdout"
        }
      ]
    },
    {
      "cell_type": "markdown",
      "metadata": {
        "id": "ma9TzYCQWoh7"
      },
      "source": [
        "## Many-to-many (different length) : Seq2seq"
      ]
    },
    {
      "cell_type": "code",
      "metadata": {
        "id": "jGzcPsSkWuaW",
        "colab": {
          "base_uri": "https://localhost:8080/"
        },
        "outputId": "163df217-ec29-409e-fc94-3ff7abfc7141"
      },
      "source": [
        "input = layers.Input(shape=(50, 16))\n",
        "x = layers.LSTM(1)(input)\n",
        "model = models.Model(input, x)\n",
        "model.summary()"
      ],
      "execution_count": null,
      "outputs": [
        {
          "output_type": "stream",
          "text": [
            "Model: \"functional_17\"\n",
            "_________________________________________________________________\n",
            "Layer (type)                 Output Shape              Param #   \n",
            "=================================================================\n",
            "input_10 (InputLayer)        [(None, 50, 16)]          0         \n",
            "_________________________________________________________________\n",
            "lstm_27 (LSTM)               (None, 1)                 72        \n",
            "=================================================================\n",
            "Total params: 72\n",
            "Trainable params: 72\n",
            "Non-trainable params: 0\n",
            "_________________________________________________________________\n"
          ],
          "name": "stdout"
        }
      ]
    },
    {
      "cell_type": "code",
      "metadata": {
        "id": "rN1gKJOzwkWd"
      },
      "source": [
        ""
      ],
      "execution_count": null,
      "outputs": []
    }
  ]
}