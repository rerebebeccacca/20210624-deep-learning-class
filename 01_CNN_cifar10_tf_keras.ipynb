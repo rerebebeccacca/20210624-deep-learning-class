{
  "nbformat": 4,
  "nbformat_minor": 0,
  "metadata": {
    "colab": {
      "name": "01-CNN-cifar10-tf.keras.ipynb",
      "provenance": [],
      "include_colab_link": true
    },
    "kernelspec": {
      "name": "python3",
      "display_name": "Python 3"
    },
    "accelerator": "GPU"
  },
  "cells": [
    {
      "cell_type": "markdown",
      "metadata": {
        "id": "view-in-github",
        "colab_type": "text"
      },
      "source": [
        "<a href=\"https://colab.research.google.com/github/rerebebeccacca/20210624-deep-learning-class/blob/main/01_CNN_cifar10_tf_keras.ipynb\" target=\"_parent\"><img src=\"https://colab.research.google.com/assets/colab-badge.svg\" alt=\"Open In Colab\"/></a>"
      ]
    },
    {
      "cell_type": "code",
      "metadata": {
        "id": "xZwrBuj9g6jx"
      },
      "source": [
        "from tensorflow.keras import datasets, models, layers, utils, losses, optimizers\n",
        "import numpy as np\n",
        "import matplotlib.pyplot as plt"
      ],
      "execution_count": null,
      "outputs": []
    },
    {
      "cell_type": "code",
      "metadata": {
        "id": "Ssnney6OhM_X"
      },
      "source": [
        "num_classes = 10\n",
        "img_size = 32"
      ],
      "execution_count": null,
      "outputs": []
    },
    {
      "cell_type": "markdown",
      "metadata": {
        "id": "KHrzP6_nh314"
      },
      "source": [
        "#### Load Dataset"
      ]
    },
    {
      "cell_type": "code",
      "metadata": {
        "id": "pgxQ4uyHhPuH",
        "colab": {
          "base_uri": "https://localhost:8080/"
        },
        "outputId": "9b6af209-e19e-439f-f6b5-3f0273cb1abb"
      },
      "source": [
        "(x_train, y_train), (x_val, y_val) = datasets.cifar10.load_data()"
      ],
      "execution_count": null,
      "outputs": [
        {
          "output_type": "stream",
          "text": [
            "Downloading data from https://www.cs.toronto.edu/~kriz/cifar-10-python.tar.gz\n",
            "170500096/170498071 [==============================] - 3s 0us/step\n"
          ],
          "name": "stdout"
        }
      ]
    },
    {
      "cell_type": "code",
      "metadata": {
        "colab": {
          "base_uri": "https://localhost:8080/",
          "height": 318
        },
        "id": "GLJKop4MhZEP",
        "outputId": "ce7a8b50-c37c-49ae-9423-7fd4cacdf2f5"
      },
      "source": [
        "index = np.random.randint(x_train.shape[0])\n",
        "print('index: ', index)\n",
        "img, label = x_train[index], y_train[index]\n",
        "print('class:', label)\n",
        "plt.imshow(img)"
      ],
      "execution_count": null,
      "outputs": [
        {
          "output_type": "stream",
          "text": [
            "index:  27575\n",
            "class: [9]\n"
          ],
          "name": "stdout"
        },
        {
          "output_type": "execute_result",
          "data": {
            "text/plain": [
              "<matplotlib.image.AxesImage at 0x7fd1f66b8a10>"
            ]
          },
          "metadata": {
            "tags": []
          },
          "execution_count": 7
        },
        {
          "output_type": "display_data",
          "data": {
            "image/png": "[encoded data removed]",
            "text/plain": [
              "<Figure size 432x288 with 1 Axes>"
            ]
          },
          "metadata": {
            "tags": [],
            "needs_background": "light"
          }
        }
      ]
    },
    {
      "cell_type": "markdown",
      "metadata": {
        "id": "nVq24tgMh9UE"
      },
      "source": [
        "#### Preprocess"
      ]
    },
    {
      "cell_type": "code",
      "metadata": {
        "colab": {
          "base_uri": "https://localhost:8080/"
        },
        "id": "gptjCYazhcjo",
        "outputId": "811cb00d-ad36-4b4c-b973-3a8bdd0111e6"
      },
      "source": [
        "# Normalization 0~1\n",
        "x_train = x_train / 255.\n",
        "x_val = x_val / 255.\n",
        "\n",
        "# ont-hot encoding\n",
        "y_train = utils.to_categorical(y_train, num_classes=num_classes)\n",
        "y_val = utils.to_categorical(y_val, num_classes=num_classes)\n",
        "\n",
        "x_train.shape, x_val.shape, y_train.shape, y_val.shape"
      ],
      "execution_count": null,
      "outputs": [
        {
          "output_type": "execute_result",
          "data": {
            "text/plain": [
              "((50000, 32, 32, 3), (10000, 32, 32, 3), (50000, 10), (10000, 10))"
            ]
          },
          "metadata": {
            "tags": []
          },
          "execution_count": 8
        }
      ]
    },
    {
      "cell_type": "markdown",
      "metadata": {
        "id": "PD-SPxkVjCyZ"
      },
      "source": [
        "#### Build Model"
      ]
    },
    {
      "cell_type": "code",
      "metadata": {
        "id": "iCgqmGFoiWH7"
      },
      "source": [
        "# 1\n",
        "inputs = layers.Input(shape=(img_size, img_size, 3))\n",
        "x = layers.Conv2D(filters=32, kernel_size=3, activation='relu', padding='same')(inputs)\n",
        "x = layers.Conv2D(filters=32, kernel_size=3, activation='relu', padding='same')(x)\n",
        "x = layers.MaxPooling2D(2)(x)\n",
        "x = layers.Conv2D(filters=64, kernel_size=3, activation='relu', padding='same')(x)\n",
        "x = layers.Conv2D(filters=64, kernel_size=3, activation='relu', padding='same')(x)\n",
        "x = layers.MaxPooling2D(2)(x)\n",
        "x = layers.Flatten()(x)\n",
        "x = layers.Dense(512, activation='relu')(x)\n",
        "prediction = layers.Dense(num_classes, activation='softmax')(x)\n",
        "\n",
        "model = models.Model(inputs=inputs, outputs=prediction)"
      ],
      "execution_count": null,
      "outputs": []
    },
    {
      "cell_type": "code",
      "metadata": {
        "colab": {
          "base_uri": "https://localhost:8080/"
        },
        "id": "bKNlT1dXigKt",
        "outputId": "6cfcf44c-2ceb-4ac0-9c1e-8932dfd2292b"
      },
      "source": [
        "model.summary()"
      ],
      "execution_count": null,
      "outputs": [
        {
          "output_type": "stream",
          "text": [
            "Model: \"model\"\n",
            "_________________________________________________________________\n",
            "Layer (type)                 Output Shape              Param #   \n",
            "=================================================================\n",
            "input_1 (InputLayer)         [(None, 32, 32, 3)]       0         \n",
            "_________________________________________________________________\n",
            "conv2d (Conv2D)              (None, 32, 32, 32)        896       \n",
            "_________________________________________________________________\n",
            "conv2d_1 (Conv2D)            (None, 32, 32, 32)        9248      \n",
            "_________________________________________________________________\n",
            "max_pooling2d (MaxPooling2D) (None, 16, 16, 32)        0         \n",
            "_________________________________________________________________\n",
            "conv2d_2 (Conv2D)            (None, 16, 16, 64)        18496     \n",
            "_________________________________________________________________\n",
            "conv2d_3 (Conv2D)            (None, 16, 16, 64)        36928     \n",
            "_________________________________________________________________\n",
            "max_pooling2d_1 (MaxPooling2 (None, 8, 8, 64)          0         \n",
            "_________________________________________________________________\n",
            "flatten (Flatten)            (None, 4096)              0         \n",
            "_________________________________________________________________\n",
            "dense (Dense)                (None, 512)               2097664   \n",
            "_________________________________________________________________\n",
            "dense_1 (Dense)              (None, 10)                5130      \n",
            "=================================================================\n",
            "Total params: 2,168,362\n",
            "Trainable params: 2,168,362\n",
            "Non-trainable params: 0\n",
            "_________________________________________________________________\n"
          ],
          "name": "stdout"
        }
      ]
    },
    {
      "cell_type": "markdown",
      "metadata": {
        "id": "KkSAA-m5jArZ"
      },
      "source": [
        "#### Training"
      ]
    },
    {
      "cell_type": "code",
      "metadata": {
        "id": "S7JhvinNiq4p"
      },
      "source": [
        "model.compile(loss=losses.categorical_crossentropy,\n",
        "              optimizer=optimizers.SGD(),\n",
        "              metrics=['accuracy'])"
      ],
      "execution_count": null,
      "outputs": []
    },
    {
      "cell_type": "code",
      "metadata": {
        "colab": {
          "base_uri": "https://localhost:8080/"
        },
        "id": "5zUEjqWoit-q",
        "outputId": "30ac01a0-9032-4911-9edd-eb4005d1e104"
      },
      "source": [
        "logs = model.fit(x_train, y_train,\n",
        "                batch_size=64,\n",
        "                epochs=10,\n",
        "                verbose=1,\n",
        "                validation_data=(x_val, y_val))"
      ],
      "execution_count": null,
      "outputs": [
        {
          "output_type": "stream",
          "text": [
            "Epoch 1/10\n",
            "782/782 [==============================] - 39s 8ms/step - loss: 2.2155 - accuracy: 0.1701 - val_loss: 1.9156 - val_accuracy: 0.3085\n",
            "Epoch 2/10\n",
            "782/782 [==============================] - 5s 7ms/step - loss: 1.8112 - accuracy: 0.3536 - val_loss: 1.9097 - val_accuracy: 0.3404\n",
            "Epoch 3/10\n",
            "782/782 [==============================] - 6s 7ms/step - loss: 1.5953 - accuracy: 0.4338 - val_loss: 1.5606 - val_accuracy: 0.4369\n",
            "Epoch 4/10\n",
            "782/782 [==============================] - 6s 7ms/step - loss: 1.4487 - accuracy: 0.4864 - val_loss: 1.6162 - val_accuracy: 0.4156\n",
            "Epoch 5/10\n",
            "782/782 [==============================] - 6s 7ms/step - loss: 1.3411 - accuracy: 0.5247 - val_loss: 1.3089 - val_accuracy: 0.5257\n",
            "Epoch 6/10\n",
            "782/782 [==============================] - 6s 7ms/step - loss: 1.2417 - accuracy: 0.5616 - val_loss: 1.3436 - val_accuracy: 0.5213\n",
            "Epoch 7/10\n",
            "782/782 [==============================] - 6s 7ms/step - loss: 1.1609 - accuracy: 0.5893 - val_loss: 1.3181 - val_accuracy: 0.5291\n",
            "Epoch 8/10\n",
            "782/782 [==============================] - 6s 7ms/step - loss: 1.0801 - accuracy: 0.6175 - val_loss: 1.2436 - val_accuracy: 0.5587\n",
            "Epoch 9/10\n",
            "782/782 [==============================] - 6s 7ms/step - loss: 1.0140 - accuracy: 0.6470 - val_loss: 1.1777 - val_accuracy: 0.5845\n",
            "Epoch 10/10\n",
            "782/782 [==============================] - 6s 7ms/step - loss: 0.9339 - accuracy: 0.6720 - val_loss: 1.2183 - val_accuracy: 0.5842\n"
          ],
          "name": "stdout"
        }
      ]
    },
    {
      "cell_type": "markdown",
      "metadata": {
        "id": "HD_Yw59Wi-JH"
      },
      "source": [
        "#### Logs"
      ]
    },
    {
      "cell_type": "code",
      "metadata": {
        "id": "nSkmrS5_i4ie"
      },
      "source": [
        "\n",
        "history = logs.history"
      ],
      "execution_count": null,
      "outputs": []
    },
    {
      "cell_type": "code",
      "metadata": {
        "colab": {
          "base_uri": "https://localhost:8080/",
          "height": 298
        },
        "id": "zIbv6UXOlFTd",
        "outputId": "27d0f066-f457-4170-dea0-1e198b06ec31"
      },
      "source": [
        "plt.plot(history['accuracy'])\n",
        "plt.plot(history['val_accuracy'])\n",
        "plt.legend(['accuracy', 'val_accuracy'])\n",
        "plt.title('accuracy')"
      ],
      "execution_count": null,
      "outputs": [
        {
          "output_type": "execute_result",
          "data": {
            "text/plain": [
              "Text(0.5, 1.0, 'accuracy')"
            ]
          },
          "metadata": {
            "tags": []
          },
          "execution_count": 11
        },
        {
          "output_type": "display_data",
          "data": {
            "image/png": "[encoded data removed]",
            "text/plain": [
              "<Figure size 432x288 with 1 Axes>"
            ]
          },
          "metadata": {
            "tags": [],
            "needs_background": "light"
          }
        }
      ]
    },
    {
      "cell_type": "code",
      "metadata": {
        "colab": {
          "base_uri": "https://localhost:8080/",
          "height": 298
        },
        "id": "19sDzfdYlSbD",
        "outputId": "4503d41a-7d92-49aa-b3c6-87044d2a37df"
      },
      "source": [
        "plt.plot(history['loss'])\n",
        "plt.plot(history['val_loss'])\n",
        "plt.legend(['loss', 'val_loss'])\n",
        "plt.title('loss')"
      ],
      "execution_count": null,
      "outputs": [
        {
          "output_type": "execute_result",
          "data": {
            "text/plain": [
              "Text(0.5, 1.0, 'loss')"
            ]
          },
          "metadata": {
            "tags": []
          },
          "execution_count": 12
        },
        {
          "output_type": "display_data",
          "data": {
            "image/png": "[encoded data removed]",
            "text/plain": [
              "<Figure size 432x288 with 1 Axes>"
            ]
          },
          "metadata": {
            "tags": [],
            "needs_background": "light"
          }
        }
      ]
    },
    {
      "cell_type": "markdown",
      "metadata": {
        "id": "-d6gMbwGljxB"
      },
      "source": [
        "#### Metrics"
      ]
    },
    {
      "cell_type": "code",
      "metadata": {
        "colab": {
          "base_uri": "https://localhost:8080/"
        },
        "id": "IptGLkCdlUYq",
        "outputId": "c3eef3da-16e8-4a93-82b5-708d006fa74d"
      },
      "source": [
        "from sklearn.metrics import classification_report, confusion_matrix\n",
        "\n",
        "y_true = np.argmax(y_val, axis=-1)\n",
        "prediction = model.predict(x_val)\n",
        "y_pred = np.argmax(prediction, axis=-1)\n",
        "\n",
        "print(y_true.shape, y_pred.shape)"
      ],
      "execution_count": null,
      "outputs": [
        {
          "output_type": "stream",
          "text": [
            "(10000,) (10000,)\n"
          ],
          "name": "stdout"
        }
      ]
    },
    {
      "cell_type": "code",
      "metadata": {
        "colab": {
          "base_uri": "https://localhost:8080/"
        },
        "id": "KwB2DxlHllKF",
        "outputId": "aaca9063-40fb-4bcd-ee92-d1f8cd3aa05d"
      },
      "source": [
        "# classification_report\n",
        "print(classification_report(y_true, y_pred))"
      ],
      "execution_count": null,
      "outputs": [
        {
          "output_type": "stream",
          "text": [
            "              precision    recall  f1-score   support\n",
            "\n",
            "           0       0.59      0.77      0.67      1000\n",
            "           1       0.76      0.69      0.73      1000\n",
            "           2       0.37      0.65      0.47      1000\n",
            "           3       0.43      0.38      0.41      1000\n",
            "           4       0.52      0.60      0.56      1000\n",
            "           5       0.52      0.52      0.52      1000\n",
            "           6       0.70      0.63      0.66      1000\n",
            "           7       0.84      0.53      0.65      1000\n",
            "           8       0.81      0.61      0.69      1000\n",
            "           9       0.79      0.55      0.65      1000\n",
            "\n",
            "    accuracy                           0.59     10000\n",
            "   macro avg       0.63      0.59      0.60     10000\n",
            "weighted avg       0.63      0.59      0.60     10000\n",
            "\n"
          ],
          "name": "stdout"
        }
      ]
    },
    {
      "cell_type": "code",
      "metadata": {
        "colab": {
          "base_uri": "https://localhost:8080/"
        },
        "id": "ZwdODmmNlp5c",
        "outputId": "c02ee3f3-9c94-4e17-a506-da8af407b56f"
      },
      "source": [
        "# Confusion matrix:\n",
        "#   row: Ground truth\n",
        "#   column: predict\n",
        "print(confusion_matrix(y_true, y_pred))"
      ],
      "execution_count": null,
      "outputs": [
        {
          "output_type": "stream",
          "text": [
            "[[766  12 109  15  18   9  14   5  38  14]\n",
            " [ 64 692  63  29  10   8  11   3  32  88]\n",
            " [ 58   3 654  51 128  44  40  14   7   1]\n",
            " [ 24   8 198 380  90 197  78  12   8   5]\n",
            " [ 38   3 191  42 600  36  52  29   8   1]\n",
            " [ 13   2 166 166  71 524  30  19   6   3]\n",
            " [  7   3 162  66  75  45 631   2   6   3]\n",
            " [ 28   1 129  62 119 103  16 527   4  11]\n",
            " [201  43  54  20  27  19   6   1 609  20]\n",
            " [ 99 141  63  44  16  15  20  15  36 551]]\n"
          ],
          "name": "stdout"
        }
      ]
    },
    {
      "cell_type": "markdown",
      "metadata": {
        "id": "BB_JlJoKlvYq"
      },
      "source": [
        "#### Save model"
      ]
    },
    {
      "cell_type": "code",
      "metadata": {
        "id": "KrBCVA72lsMc"
      },
      "source": [
        "# 1. save whole model and weights\n",
        "model.save('my_model.h5')\n",
        "model2 = models.load_model('my_model.h5')"
      ],
      "execution_count": null,
      "outputs": []
    },
    {
      "cell_type": "code",
      "metadata": {
        "id": "1Nc2e-hqlugA"
      },
      "source": [
        ""
      ],
      "execution_count": null,
      "outputs": []
    }
  ]
}