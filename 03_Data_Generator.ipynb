{
  "nbformat": 4,
  "nbformat_minor": 0,
  "metadata": {
    "colab": {
      "name": "05-Data Generator.ipynb",
      "provenance": [],
      "collapsed_sections": [],
      "include_colab_link": true
    },
    "kernelspec": {
      "name": "python3",
      "display_name": "Python 3"
    },
    "language_info": {
      "name": "python"
    }
  },
  "cells": [
    {
      "cell_type": "markdown",
      "metadata": {
        "id": "view-in-github",
        "colab_type": "text"
      },
      "source": [
        "<a href=\"https://colab.research.google.com/github/rerebebeccacca/20210624-deep-learning-class/blob/main/05_Data_Generator.ipynb\" target=\"_parent\"><img src=\"https://colab.research.google.com/assets/colab-badge.svg\" alt=\"Open In Colab\"/></a>"
      ]
    },
    {
      "cell_type": "code",
      "metadata": {
        "colab": {
          "base_uri": "https://localhost:8080/"
        },
        "id": "0cIZz63I4m-U",
        "outputId": "5ff8400b-7b01-4205-e16d-8afaaeab5932"
      },
      "source": [
        "# download dataset from https://drive.google.com/file/d/12iinuMZkaZOZGXlkPsUnmETaE-cMlyHu/view?usp=sharing\n",
        "!gdown --id 12iinuMZkaZOZGXlkPsUnmETaE-cMlyHu --output defect.zip"
      ],
      "execution_count": 5,
      "outputs": [
        {
          "output_type": "stream",
          "text": [
            "Downloading...\n",
            "From: https://drive.google.com/uc?id=12iinuMZkaZOZGXlkPsUnmETaE-cMlyHu\n",
            "To: /content/defect.zip\n",
            "53.2MB [00:00, 94.1MB/s]\n"
          ],
          "name": "stdout"
        }
      ]
    },
    {
      "cell_type": "code",
      "metadata": {
        "id": "hDLQgYmY6ROq",
        "colab": {
          "base_uri": "https://localhost:8080/"
        },
        "outputId": "900508ee-2899-4ae3-9fb6-2b3904d8e8fd"
      },
      "source": [
        "# unzip file\n",
        "!unzip -q defect.zip"
      ],
      "execution_count": 6,
      "outputs": [
        {
          "output_type": "stream",
          "text": [
            "replace __MACOSX/._Magnetic-tile-defect? [y]es, [n]o, [A]ll, [N]one, [r]ename: n\n",
            "replace __MACOSX/Magnetic-tile-defect/._MT_Uneven? [y]es, [n]o, [A]ll, [N]one, [r]ename: n\n",
            "replace __MACOSX/Magnetic-tile-defect/._MT_Break? [y]es, [n]o, [A]ll, [N]one, [r]ename: n\n",
            "replace Magnetic-tile-defect/.DS_Store? [y]es, [n]o, [A]ll, [N]one, [r]ename: n\n",
            "replace __MACOSX/Magnetic-tile-defect/._.DS_Store? [y]es, [n]o, [A]ll, [N]one, [r]ename: n\n",
            "replace __MACOSX/Magnetic-tile-defect/._MT_Blowhole? [y]es, [n]o, [A]ll, [N]one, [r]ename: n\n",
            "replace __MACOSX/Magnetic-tile-defect/._MT_Fray? [y]es, [n]o, [A]ll, [N]one, [r]ename: n\n",
            "replace __MACOSX/Magnetic-tile-defect/._MT_Crack? [y]es, [n]o, [A]ll, [N]one, [r]ename: n\n",
            "replace __MACOSX/Magnetic-tile-defect/._MT_Free? [y]es, [n]o, [A]ll, [N]one, [r]ename: n\n",
            "replace __MACOSX/Magnetic-tile-defect/MT_Uneven/._Imgs? [y]es, [n]o, [A]ll, [N]one, [r]ename: n\n",
            "replace __MACOSX/Magnetic-tile-defect/MT_Break/._Imgs? [y]es, [n]o, [A]ll, [N]one, [r]ename: n\n",
            "replace Magnetic-tile-defect/MT_Blowhole/.DS_Store? [y]es, [n]o, [A]ll, [N]one, [r]ename: n\n",
            "replace __MACOSX/Magnetic-tile-defect/MT_Blowhole/._.DS_Store? [y]es, [n]o, [A]ll, [N]one, [r]ename: n\n",
            "replace __MACOSX/Magnetic-tile-defect/MT_Blowhole/._Imgs? [y]es, [n]o, [A]ll, [N]one, [r]ename: n\n",
            "replace __MACOSX/Magnetic-tile-defect/MT_Fray/._Imgs? [y]es, [n]o, [A]ll, [N]one, [r]ename: n\n",
            "replace __MACOSX/Magnetic-tile-defect/MT_Crack/._Imgs? [y]es, [n]o, [A]ll, [N]one, [r]ename: n\n",
            "replace Magnetic-tile-defect/MT_Free/.DS_Store? [y]es, [n]o, [A]ll, [N]one, [r]ename: n\n",
            "replace __MACOSX/Magnetic-tile-defect/MT_Free/._.DS_Store? [y]es, [n]o, [A]ll, [N]one, [r]ename: n\n",
            "replace __MACOSX/Magnetic-tile-defect/MT_Free/._Imgs? [y]es, [n]o, [A]ll, [N]one, [r]ename: n\n",
            "replace Magnetic-tile-defect/MT_Uneven/Imgs/exp2_num_129056.jpg? [y]es, [n]o, [A]ll, [N]one, [r]ename: n\n",
            "replace __MACOSX/Magnetic-tile-defect/MT_Uneven/Imgs/._exp2_num_129056.jpg? [y]es, [n]o, [A]ll, [N]one, [r]ename: n\n",
            "replace Magnetic-tile-defect/MT_Uneven/Imgs/exp2_num_129056.png? [y]es, [n]o, [A]ll, [N]one, [r]ename: n\n",
            "replace __MACOSX/Magnetic-tile-defect/MT_Uneven/Imgs/._exp2_num_129056.png? [y]es, [n]o, [A]ll, [N]one, [r]ename: n\n",
            "replace Magnetic-tile-defect/MT_Uneven/Imgs/exp2_num_311834.jpg? [y]es, [n]o, [A]ll, [N]one, [r]ename: n\n",
            "replace __MACOSX/Magnetic-tile-defect/MT_Uneven/Imgs/._exp2_num_311834.jpg? [y]es, [n]o, [A]ll, [N]one, [r]ename: n\n",
            "replace Magnetic-tile-defect/MT_Uneven/Imgs/exp3_num_274138.png? [y]es, [n]o, [A]ll, [N]one, [r]ename: \n",
            "error:  invalid response [{ENTER}]\n",
            "replace Magnetic-tile-defect/MT_Uneven/Imgs/exp3_num_274138.png? [y]es, [n]o, [A]ll, [N]one, [r]ename: n\n",
            "replace __MACOSX/Magnetic-tile-defect/MT_Uneven/Imgs/._exp3_num_274138.png? [y]es, [n]o, [A]ll, [N]one, [r]ename: n\n",
            "replace Magnetic-tile-defect/MT_Uneven/Imgs/exp3_num_274138.jpg? [y]es, [n]o, [A]ll, [N]one, [r]ename: n\n",
            "replace __MACOSX/Magnetic-tile-defect/MT_Uneven/Imgs/._exp3_num_274138.jpg? [y]es, [n]o, [A]ll, [N]one, [r]ename: n\n",
            "replace Magnetic-tile-defect/MT_Uneven/Imgs/exp2_num_311834.png? [y]es, [n]o, [A]ll, [N]one, [r]ename: n\n",
            "replace __MACOSX/Magnetic-tile-defect/MT_Uneven/Imgs/._exp2_num_311834.png? [y]es, [n]o, [A]ll, [N]one, [r]ename: n\n",
            "replace Magnetic-tile-defect/MT_Uneven/Imgs/exp5_num_172332.jpg? [y]es, [n]o, [A]ll, [N]one, [r]ename: n\n",
            "replace __MACOSX/Magnetic-tile-defect/MT_Uneven/Imgs/._exp5_num_172332.jpg? [y]es, [n]o, [A]ll, [N]one, [r]ename: n\n",
            "replace Magnetic-tile-defect/MT_Uneven/Imgs/exp5_num_172332.png? [y]es, [n]o, [A]ll, [N]one, [r]ename: n\n",
            "replace __MACOSX/Magnetic-tile-defect/MT_Uneven/Imgs/._exp5_num_172332.png? [y]es, [n]o, [A]ll, [N]one, [r]ename: n\n",
            "replace Magnetic-tile-defect/MT_Uneven/Imgs/exp1_num_186826.jpg? [y]es, [n]o, [A]ll, [N]one, [r]ename: n\n",
            "replace __MACOSX/Magnetic-tile-defect/MT_Uneven/Imgs/._exp1_num_186826.jpg? [y]es, [n]o, [A]ll, [N]one, [r]ename: n\n",
            "replace Magnetic-tile-defect/MT_Uneven/Imgs/exp3_num_124629.png? [y]es, [n]o, [A]ll, [N]one, [r]ename: n\n",
            "replace __MACOSX/Magnetic-tile-defect/MT_Uneven/Imgs/._exp3_num_124629.png? [y]es, [n]o, [A]ll, [N]one, [r]ename: n\n",
            "replace Magnetic-tile-defect/MT_Uneven/Imgs/exp1_num_186826.png? [y]es, [n]o, [A]ll, [N]one, [r]ename: n\n",
            "replace __MACOSX/Magnetic-tile-defect/MT_Uneven/Imgs/._exp1_num_186826.png? [y]es, [n]o, [A]ll, [N]one, [r]ename: n\n",
            "replace Magnetic-tile-defect/MT_Uneven/Imgs/exp3_num_124629.jpg? [y]es, [n]o, [A]ll, [N]one, [r]ename: n\n",
            "replace __MACOSX/Magnetic-tile-defect/MT_Uneven/Imgs/._exp3_num_124629.jpg? [y]es, [n]o, [A]ll, [N]one, [r]ename: n\n",
            "replace Magnetic-tile-defect/MT_Uneven/Imgs/exp5_num_592.png? [y]es, [n]o, [A]ll, [N]one, [r]ename: n\n",
            "replace __MACOSX/Magnetic-tile-defect/MT_Uneven/Imgs/._exp5_num_592.png? [y]es, [n]o, [A]ll, [N]one, [r]ename: n\n",
            "replace Magnetic-tile-defect/MT_Uneven/Imgs/exp4_num_186909.jpg? [y]es, [n]o, [A]ll, [N]one, [r]ename: n\n",
            "replace __MACOSX/Magnetic-tile-defect/MT_Uneven/Imgs/._exp4_num_186909.jpg? [y]es, [n]o, [A]ll, [N]one, [r]ename: n\n",
            "replace Magnetic-tile-defect/MT_Uneven/Imgs/exp6_num_25007.jpg? [y]es, [n]o, [A]ll, [N]one, [r]ename: n\n",
            "replace __MACOSX/Magnetic-tile-defect/MT_Uneven/Imgs/._exp6_num_25007.jpg? [y]es, [n]o, [A]ll, [N]one, [r]ename: n\n",
            "replace Magnetic-tile-defect/MT_Uneven/Imgs/exp5_num_45084.png? [y]es, [n]o, [A]ll, [N]one, [r]ename: n\n",
            "replace __MACOSX/Magnetic-tile-defect/MT_Uneven/Imgs/._exp5_num_45084.png? [y]es, [n]o, [A]ll, [N]one, [r]ename: n\n",
            "replace Magnetic-tile-defect/MT_Uneven/Imgs/exp6_num_25007.png? [y]es, [n]o, [A]ll, [N]one, [r]ename: n\n",
            "replace __MACOSX/Magnetic-tile-defect/MT_Uneven/Imgs/._exp6_num_25007.png? [y]es, [n]o, [A]ll, [N]one, [r]ename: n\n",
            "replace Magnetic-tile-defect/MT_Uneven/Imgs/exp5_num_45084.jpg? [y]es, [n]o, [A]ll, [N]one, [r]ename: n\n",
            "replace __MACOSX/Magnetic-tile-defect/MT_Uneven/Imgs/._exp5_num_45084.jpg? [y]es, [n]o, [A]ll, [N]one, [r]ename: n\n",
            "replace Magnetic-tile-defect/MT_Uneven/Imgs/exp5_num_592.jpg? [y]es, [n]o, [A]ll, [N]one, [r]ename: n\n",
            "replace __MACOSX/Magnetic-tile-defect/MT_Uneven/Imgs/._exp5_num_592.jpg? [y]es, [n]o, [A]ll, [N]one, [r]ename: n\n",
            "replace Magnetic-tile-defect/MT_Uneven/Imgs/exp4_num_186909.png? [y]es, [n]o, [A]ll, [N]one, [r]ename: n\n",
            "replace __MACOSX/Magnetic-tile-defect/MT_Uneven/Imgs/._exp4_num_186909.png? [y]es, [n]o, [A]ll, [N]one, [r]ename: n\n",
            "replace Magnetic-tile-defect/MT_Uneven/Imgs/exp1_num_155300.jpg? [y]es, [n]o, [A]ll, [N]one, [r]ename: n\n",
            "replace __MACOSX/Magnetic-tile-defect/MT_Uneven/Imgs/._exp1_num_155300.jpg? [y]es, [n]o, [A]ll, [N]one, [r]ename: n\n",
            "replace Magnetic-tile-defect/MT_Uneven/Imgs/exp5_num_24876.png? [y]es, [n]o, [A]ll, [N]one, [r]ename: n\n",
            "replace __MACOSX/Magnetic-tile-defect/MT_Uneven/Imgs/._exp5_num_24876.png? [y]es, [n]o, [A]ll, [N]one, [r]ename: n\n",
            "replace Magnetic-tile-defect/MT_Uneven/Imgs/exp5_num_24876.jpg? [y]es, [n]o, [A]ll, [N]one, [r]ename: n\n",
            "replace __MACOSX/Magnetic-tile-defect/MT_Uneven/Imgs/._exp5_num_24876.jpg? [y]es, [n]o, [A]ll, [N]one, [r]ename: n\n",
            "replace Magnetic-tile-defect/MT_Uneven/Imgs/exp1_num_155300.png? [y]es, [n]o, [A]ll, [N]one, [r]ename: n\n",
            "replace __MACOSX/Magnetic-tile-defect/MT_Uneven/Imgs/._exp1_num_155300.png? [y]es, [n]o, [A]ll, [N]one, [r]ename: n\n",
            "replace Magnetic-tile-defect/MT_Uneven/Imgs/exp1_num_270128.png? [y]es, [n]o, [A]ll, [N]one, [r]ename: n\n",
            "replace __MACOSX/Magnetic-tile-defect/MT_Uneven/Imgs/._exp1_num_270128.png? [y]es, [n]o, [A]ll, [N]one, [r]ename: n\n",
            "replace Magnetic-tile-defect/MT_Uneven/Imgs/exp3_num_352516.png? [y]es, [n]o, [A]ll, [N]one, [r]ename: n\n",
            "replace __MACOSX/Magnetic-tile-defect/MT_Uneven/Imgs/._exp3_num_352516.png? [y]es, [n]o, [A]ll, [N]one, [r]ename: n\n",
            "replace Magnetic-tile-defect/MT_Uneven/Imgs/exp3_num_352516.jpg? [y]es, [n]o, [A]ll, [N]one, [r]ename: n\n",
            "replace __MACOSX/Magnetic-tile-defect/MT_Uneven/Imgs/._exp3_num_352516.jpg? [y]es, [n]o, [A]ll, [N]one, [r]ename: n\n",
            "replace Magnetic-tile-defect/MT_Uneven/Imgs/exp1_num_270128.jpg? [y]es, [n]o, [A]ll, [N]one, [r]ename: n\n",
            "replace __MACOSX/Magnetic-tile-defect/MT_Uneven/Imgs/._exp1_num_270128.jpg? [y]es, [n]o, [A]ll, [N]one, [r]ename: n\n",
            "replace Magnetic-tile-defect/MT_Uneven/Imgs/exp6_num_352572.jpg? [y]es, [n]o, [A]ll, [N]one, [r]ename: n\n",
            "replace __MACOSX/Magnetic-tile-defect/MT_Uneven/Imgs/._exp6_num_352572.jpg? [y]es, [n]o, [A]ll, [N]one, [r]ename: n\n",
            "replace Magnetic-tile-defect/MT_Uneven/Imgs/exp3_num_186885.png? [y]es, [n]o, [A]ll, [N]one, [r]ename: n\n",
            "replace __MACOSX/Magnetic-tile-defect/MT_Uneven/Imgs/._exp3_num_186885.png? [y]es, [n]o, [A]ll, [N]one, [r]ename: n\n",
            "replace Magnetic-tile-defect/MT_Uneven/Imgs/exp3_num_129069.png? [y]es, [n]o, [A]ll, [N]one, [r]ename: n\n",
            "replace __MACOSX/Magnetic-tile-defect/MT_Uneven/Imgs/._exp3_num_129069.png? [y]es, [n]o, [A]ll, [N]one, [r]ename: n\n",
            "replace Magnetic-tile-defect/MT_Uneven/Imgs/exp3_num_129069.jpg? [y]es, [n]o, [A]ll, [N]one, [r]ename: n\n",
            "replace __MACOSX/Magnetic-tile-defect/MT_Uneven/Imgs/._exp3_num_129069.jpg? [y]es, [n]o, [A]ll, [N]one, [r]ename: n\n",
            "replace Magnetic-tile-defect/MT_Uneven/Imgs/exp6_num_352572.png? [y]es, [n]o, [A]ll, [N]one, [r]ename: n\n",
            "replace __MACOSX/Magnetic-tile-defect/MT_Uneven/Imgs/._exp6_num_352572.png? [y]es, [n]o, [A]ll, [N]one, [r]ename: n\n",
            "replace Magnetic-tile-defect/MT_Uneven/Imgs/exp3_num_186885.jpg? [y]es, [n]o, [A]ll, [N]one, [r]ename: n\n",
            "replace __MACOSX/Magnetic-tile-defect/MT_Uneven/Imgs/._exp3_num_186885.jpg? [y]es, [n]o, [A]ll, [N]one, [r]ename: n\n",
            "replace Magnetic-tile-defect/MT_Uneven/Imgs/exp4_num_24843.jpg? [y]es, [n]o, [A]ll, [N]one, [r]ename: n\n",
            "replace __MACOSX/Magnetic-tile-defect/MT_Uneven/Imgs/._exp4_num_24843.jpg? [y]es, [n]o, [A]ll, [N]one, [r]ename: n\n",
            "replace Magnetic-tile-defect/MT_Uneven/Imgs/exp6_num_311924.png? [y]es, [n]o, [A]ll, [N]one, [r]ename: n\n",
            "replace __MACOSX/Magnetic-tile-defect/MT_Uneven/Imgs/._exp6_num_311924.png? [y]es, [n]o, [A]ll, [N]one, [r]ename: n\n",
            "replace Magnetic-tile-defect/MT_Uneven/Imgs/exp1_num_129031.png? [y]es, [n]o, [A]ll, [N]one, [r]ename: n\n",
            "replace __MACOSX/Magnetic-tile-defect/MT_Uneven/Imgs/._exp1_num_129031.png? [y]es, [n]o, [A]ll, [N]one, [r]ename: n\n",
            "replace Magnetic-tile-defect/MT_Uneven/Imgs/exp6_num_311924.jpg? [y]es, [n]o, [A]ll, [N]one, [r]ename: n\n",
            "replace __MACOSX/Magnetic-tile-defect/MT_Uneven/Imgs/._exp6_num_311924.jpg? [y]es, [n]o, [A]ll, [N]one, [r]ename: n\n",
            "replace Magnetic-tile-defect/MT_Uneven/Imgs/exp1_num_129031.jpg? [y]es, [n]o, [A]ll, [N]one, [r]ename: n\n",
            "replace __MACOSX/Magnetic-tile-defect/MT_Uneven/Imgs/._exp1_num_129031.jpg? [y]es, [n]o, [A]ll, [N]one, [r]ename: n\n",
            "replace Magnetic-tile-defect/MT_Uneven/Imgs/exp4_num_24843.png? [y]es, [n]o, [A]ll, [N]one, [r]ename: "
          ],
          "name": "stdout"
        }
      ]
    },
    {
      "cell_type": "code",
      "metadata": {
        "id": "8pr2Ympo4qpc"
      },
      "source": [
        "import tensorflow as tf\n",
        "import cv2 #讀圖套件\n",
        "import numpy as np\n",
        "from glob import glob#去搜尋的套件\n",
        "from sklearn.model_selection import train_test_split"
      ],
      "execution_count": 18,
      "outputs": []
    },
    {
      "cell_type": "code",
      "metadata": {
        "id": "5xWBxpOz4uIG"
      },
      "source": [
        "class DataGenerator(tf.keras.utils.Sequence):\n",
        "    def __init__(self, img_paths, batch_size, img_size, shuffle=True, aug=False):\n",
        "        self.img_paths = img_paths\n",
        "        self.batch_size = batch_size\n",
        "        self.img_size = img_size\n",
        "        self.shuffle = shuffle\n",
        "        self.aug = aug\n",
        "\n",
        "        self.indexes = np.arange(len(self.img_paths)) #要去第幾個位置去抓圖片 \b[0,1,2,3,4,5]\n",
        "        self.on_epoch_end()\n",
        "\n",
        "    #看每個epoch有幾個batches\n",
        "    def __len__(self):\n",
        "        return int(np.ceil(len(self.img_paths) / self.batch_size)) # batches per epoch\n",
        "\n",
        "    def __getitem__(self, index):\n",
        "        # Generate indexes of the batch\n",
        "        idxs = self.indexes[index * self.batch_size:(index + 1) * self.batch_size] #看要去哪個位置去取得圖片\n",
        "        # Find list of IDs\n",
        "        batch_img_paths = [self.img_paths[i] for i in idxs]\n",
        "\n",
        "        # Generates data containing batch_size samples\n",
        "        x = np.empty((len(batch_img_paths), self.img_size, self.img_size, 3), dtype=np.float32)#第一維看有幾張\n",
        "        y = np.empty((len(batch_img_paths), 1), dtype=np.float32)#y是向量，看有幾筆資料，及類別數值\n",
        "\n",
        "        for i, img_path in enumerate(batch_img_paths):\n",
        "            # read img\n",
        "            img = cv2.imread(img_path)\n",
        "            img = cv2.resize(img, (self.img_size, self.img_size))\n",
        "            img = img / 255.\n",
        "\n",
        "            if self.aug:\n",
        "                img = img # Augmentation\n",
        "                \n",
        "            # read class label\n",
        "            cls = img_path.split('/')[-3]\n",
        "            if cls == 'MT_Free':\n",
        "                cls = 0\n",
        "            else:\n",
        "                cls = 1\n",
        "            x[i] = img\n",
        "            y[i] = cls\n",
        "        return x, y\n",
        "\n",
        "    def on_epoch_end(self):\n",
        "        # Updates indexes after each epoch\n",
        "        if self.shuffle: #把資料順序打亂，增加隨機性\n",
        "            np.random.shuffle(self.indexes)"
      ],
      "execution_count": 19,
      "outputs": []
    },
    {
      "cell_type": "code",
      "metadata": {
        "id": "YvwAqcJ46NNM"
      },
      "source": [
        "#設定圖片路徑，去搜尋符合自訂的圖片檔案路徑下所有jpg的檔\n",
        "img_paths = glob('./Magnetic-tile-defect/MT_Free/Imgs/*.jpg') + glob('./Magnetic-tile-defect/MT_Blowhole/Imgs/*.jpg')"
      ],
      "execution_count": 20,
      "outputs": []
    },
    {
      "cell_type": "code",
      "metadata": {
        "colab": {
          "base_uri": "https://localhost:8080/"
        },
        "id": "38kJs_9L6oUI",
        "outputId": "73245a5c-cd21-4db1-d6f2-6cb0317e9699"
      },
      "source": [
        "len(img_paths)"
      ],
      "execution_count": 21,
      "outputs": [
        {
          "output_type": "execute_result",
          "data": {
            "text/plain": [
              "1067"
            ]
          },
          "metadata": {
            "tags": []
          },
          "execution_count": 21
        }
      ]
    },
    {
      "cell_type": "code",
      "metadata": {
        "id": "qwvXKNi-6tGm"
      },
      "source": [
        "# 切成8:2的比例\n",
        "train_img_paths, val_img_paths = train_test_split(img_paths, test_size=0.2)"
      ],
      "execution_count": 22,
      "outputs": []
    },
    {
      "cell_type": "code",
      "metadata": {
        "colab": {
          "base_uri": "https://localhost:8080/"
        },
        "id": "e3_101s-68xR",
        "outputId": "11b74949-e019-4e4e-ffee-73ab58b9c283"
      },
      "source": [
        "#def __len__()\n",
        "len(train_img_paths), len(val_img_paths)"
      ],
      "execution_count": 23,
      "outputs": [
        {
          "output_type": "execute_result",
          "data": {
            "text/plain": [
              "(853, 214)"
            ]
          },
          "metadata": {
            "tags": []
          },
          "execution_count": 23
        }
      ]
    },
    {
      "cell_type": "code",
      "metadata": {
        "id": "7CzkhVMF6_FV"
      },
      "source": [
        "\n",
        "train_gen = DataGenerator(train_img_paths, 32, 200, shuffle=True, aug=True)\n",
        "val_gen = DataGenerator(val_img_paths, 32, 200, shuffle=False, aug=False) #test時，要關掉shuffle=False, aug=False"
      ],
      "execution_count": 24,
      "outputs": []
    },
    {
      "cell_type": "code",
      "metadata": {
        "id": "Gan4kb8T7X7Y"
      },
      "source": [
        "\n",
        "# get 1 batch\n",
        "# def __getitem__() 因為有做這個\n",
        "imgs, labels = train_gen[2] #x = img ,y = labels"
      ],
      "execution_count": 25,
      "outputs": []
    },
    {
      "cell_type": "code",
      "metadata": {
        "colab": {
          "base_uri": "https://localhost:8080/"
        },
        "id": "pHhEDpOv78G8",
        "outputId": "893b40bb-270a-438d-f895-e403e0340799"
      },
      "source": [
        "imgs.shape, labels.shape"
      ],
      "execution_count": 26,
      "outputs": [
        {
          "output_type": "execute_result",
          "data": {
            "text/plain": [
              "((32, 200, 200, 3), (32, 1))"
            ]
          },
          "metadata": {
            "tags": []
          },
          "execution_count": 26
        }
      ]
    },
    {
      "cell_type": "code",
      "metadata": {
        "id": "3rDUi7DabdIX",
        "colab": {
          "base_uri": "https://localhost:8080/"
        },
        "outputId": "0a70f8e8-0526-40bd-89d2-de9d02382c16"
      },
      "source": [
        "print(labels)"
      ],
      "execution_count": 27,
      "outputs": [
        {
          "output_type": "stream",
          "text": [
            "[[0.]\n",
            " [1.]\n",
            " [0.]\n",
            " [0.]\n",
            " [0.]\n",
            " [0.]\n",
            " [0.]\n",
            " [0.]\n",
            " [0.]\n",
            " [1.]\n",
            " [1.]\n",
            " [0.]\n",
            " [0.]\n",
            " [0.]\n",
            " [0.]\n",
            " [1.]\n",
            " [0.]\n",
            " [0.]\n",
            " [0.]\n",
            " [0.]\n",
            " [0.]\n",
            " [0.]\n",
            " [0.]\n",
            " [0.]\n",
            " [0.]\n",
            " [1.]\n",
            " [1.]\n",
            " [1.]\n",
            " [0.]\n",
            " [0.]\n",
            " [0.]\n",
            " [1.]]\n"
          ],
          "name": "stdout"
        }
      ]
    },
    {
      "cell_type": "code",
      "metadata": {
        "id": "_zoqCf7v8Irp",
        "colab": {
          "base_uri": "https://localhost:8080/",
          "height": 246
        },
        "outputId": "23a604e4-dc03-47a7-f0d3-fff288e9b2f0"
      },
      "source": [
        "# training\n",
        "\n",
        "model.fit(train_gen,\n",
        "          validation_data=val_gen,\n",
        "          epochs=10,\n",
        "          )"
      ],
      "execution_count": 31,
      "outputs": [
        {
          "output_type": "error",
          "ename": "NameError",
          "evalue": "ignored",
          "traceback": [
            "\u001b[0;31m---------------------------------------------------------------------------\u001b[0m",
            "\u001b[0;31mNameError\u001b[0m                                 Traceback (most recent call last)",
            "\u001b[0;32m<ipython-input-31-a891eaeb55d4>\u001b[0m in \u001b[0;36m<module>\u001b[0;34m()\u001b[0m\n\u001b[1;32m      1\u001b[0m \u001b[0;31m# training\u001b[0m\u001b[0;34m\u001b[0m\u001b[0;34m\u001b[0m\u001b[0;34m\u001b[0m\u001b[0m\n\u001b[1;32m      2\u001b[0m \u001b[0;34m\u001b[0m\u001b[0m\n\u001b[0;32m----> 3\u001b[0;31m model.fit(train_gen,\n\u001b[0m\u001b[1;32m      4\u001b[0m           \u001b[0mvalidation_data\u001b[0m\u001b[0;34m=\u001b[0m\u001b[0mval_gen\u001b[0m\u001b[0;34m,\u001b[0m\u001b[0;34m\u001b[0m\u001b[0;34m\u001b[0m\u001b[0m\n\u001b[1;32m      5\u001b[0m           \u001b[0mepochs\u001b[0m\u001b[0;34m=\u001b[0m\u001b[0;36m10\u001b[0m\u001b[0;34m,\u001b[0m\u001b[0;34m\u001b[0m\u001b[0;34m\u001b[0m\u001b[0m\n",
            "\u001b[0;31mNameError\u001b[0m: name 'model' is not defined"
          ]
        }
      ]
    }
  ]
}
