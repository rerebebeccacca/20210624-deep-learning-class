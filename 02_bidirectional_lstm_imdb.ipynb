{
  "nbformat": 4,
  "nbformat_minor": 0,
  "metadata": {
    "colab": {
      "name": "02_bidirectional_lstm_imdb.ipynb",
      "provenance": [],
      "collapsed_sections": [],
      "include_colab_link": true
    },
    "kernelspec": {
      "display_name": "Python 3",
      "language": "python",
      "name": "python3"
    },
    "language_info": {
      "codemirror_mode": {
        "name": "ipython",
        "version": 3
      },
      "file_extension": ".py",
      "mimetype": "text/x-python",
      "name": "python",
      "nbconvert_exporter": "python",
      "pygments_lexer": "ipython3",
      "version": "3.7.0"
    },
    "accelerator": "GPU"
  },
  "cells": [
    {
      "cell_type": "markdown",
      "metadata": {
        "id": "view-in-github",
        "colab_type": "text"
      },
      "source": [
        "<a href=\"https://colab.research.google.com/github/rerebebeccacca/20210624-deep-learning-class/blob/main/02_bidirectional_lstm_imdb.ipynb\" target=\"_parent\"><img src=\"https://colab.research.google.com/assets/colab-badge.svg\" alt=\"Open In Colab\"/></a>"
      ]
    },
    {
      "cell_type": "markdown",
      "metadata": {
        "id": "1cdZKjVgH3LP"
      },
      "source": [
        "# Bidirectional LSTM on IMDB\n",
        "\n",
        "**Author:** [fchollet](https://twitter.com/fchollet)<br>"
      ]
    },
    {
      "cell_type": "markdown",
      "metadata": {
        "id": "e3tsxsSfH3LQ"
      },
      "source": [
        "## Setup"
      ]
    },
    {
      "cell_type": "code",
      "metadata": {
        "id": "8HuSqbNeH3LQ"
      },
      "source": [
        "import numpy as np\n",
        "import tensorflow as tf\n",
        "from tensorflow import keras\n",
        "from tensorflow.keras import layers, utils\n",
        "\n",
        "max_features = 20000  # Only consider the top 20k words\n",
        "maxlen = 200  # Only consider the first 200 words of each movie review\n",
        "INDEX_FROM = 3"
      ],
      "execution_count": 1,
      "outputs": []
    },
    {
      "cell_type": "markdown",
      "metadata": {
        "id": "1Nj3U6ybH3LU"
      },
      "source": [
        "## Build the model"
      ]
    },
    {
      "cell_type": "code",
      "metadata": {
        "id": "08R8t_OjH3LU"
      },
      "source": [
        "# Input for variable-length sequences of integers\n",
        "inputs = keras.Input(shape=(None,), dtype=\"int32\")\n",
        "# Embed each integer in a 128-dimensional vector\n",
        "x = layers.Embedding(max_features, 128)(inputs)\n",
        "# Add 2 bidirectional LSTMs\n",
        "x = layers.Bidirectional(layers.LSTM(32, return_sequences=True))(x)\n",
        "x = layers.Bidirectional(layers.LSTM(31))(x)\n",
        "# Add a classifier\n",
        "outputs = layers.Dense(1, activation=\"sigmoid\")(x)\n",
        "model = keras.Model(inputs, outputs)\n",
        "model.summary()\n"
      ],
      "execution_count": null,
      "outputs": []
    },
    {
      "cell_type": "code",
      "metadata": {
        "id": "CA8wP5STIIn8"
      },
      "source": [
        "utils.plot_model(model, show_shapes=True)"
      ],
      "execution_count": null,
      "outputs": []
    },
    {
      "cell_type": "markdown",
      "metadata": {
        "id": "fU03iAGlH3LX"
      },
      "source": [
        "## Load the IMDB movie review sentiment data"
      ]
    },
    {
      "cell_type": "code",
      "metadata": {
        "id": "7iLXZpCXH3LX"
      },
      "source": [
        "(x_train, y_train), (x_val, y_val) = tf.keras.datasets.imdb.load_data(\n",
        "    num_words=max_features,\n",
        "    start_char=1, # start tag index\n",
        "    oov_char=2, # out-of-vocabulary index\n",
        "    index_from=3, # index of actual word starts\n",
        ")"
      ],
      "execution_count": null,
      "outputs": []
    },
    {
      "cell_type": "code",
      "metadata": {
        "id": "06p8CZgzMnO0"
      },
      "source": [
        "x_train.shape, y_train.shape, x_val.shape, y_val.shape"
      ],
      "execution_count": null,
      "outputs": []
    },
    {
      "cell_type": "code",
      "metadata": {
        "id": "Kl4SFuT_PTFv"
      },
      "source": [
        "len(x_train[5566]), x_train[5566]"
      ],
      "execution_count": null,
      "outputs": []
    },
    {
      "cell_type": "code",
      "metadata": {
        "id": "gjb-CVzJM3PX"
      },
      "source": [
        "word2index2 = tf.keras.datasets.imdb.get_word_index()\n",
        "index2word2 = {v: k for k, v in word2index2.items()}\n",
        "\n",
        "index2word2[4]"
      ],
      "execution_count": null,
      "outputs": []
    },
    {
      "cell_type": "code",
      "metadata": {
        "id": "8Xlbkgt6LddJ"
      },
      "source": [
        "word2index = tf.keras.datasets.imdb.get_word_index() # word -> index\n",
        "word2index = {k: v+INDEX_FROM for k,v in word2index.items()}\n",
        "word2index[\"<PAD>\"] = 0\n",
        "word2index[\"<START>\"] = 1\n",
        "word2index[\"<UNK>\"] = 2\n",
        "word2index[\"<UNUSED>\"] = 3\n",
        "print(word2index)"
      ],
      "execution_count": null,
      "outputs": []
    },
    {
      "cell_type": "code",
      "metadata": {
        "id": "subttcyOLhHR"
      },
      "source": [
        "index2word = {v: k for k, v in word2index.items()} # index -> word\n",
        "print(index2word)"
      ],
      "execution_count": null,
      "outputs": []
    },
    {
      "cell_type": "code",
      "metadata": {
        "id": "oaF1a7y1Od-o"
      },
      "source": [
        "index2word[5]"
      ],
      "execution_count": null,
      "outputs": []
    },
    {
      "cell_type": "code",
      "metadata": {
        "id": "8JF-9ehFIk7G"
      },
      "source": [
        "idx = np.random.randint(0, x_train.shape[0])\n",
        "label = y_train[idx]\n",
        "comment = x_train[idx]\n",
        "print(f'idx: {idx}')\n",
        "print('comment: ', comment)\n",
        "label"
      ],
      "execution_count": null,
      "outputs": []
    },
    {
      "cell_type": "code",
      "metadata": {
        "id": "CoSejVbmL2kP"
      },
      "source": [
        "comment_words = [index2word[c] for c in comment]\n",
        "' '.join(comment_words)"
      ],
      "execution_count": null,
      "outputs": []
    },
    {
      "cell_type": "code",
      "metadata": {
        "id": "PNMpmjTXIegT"
      },
      "source": [
        "print(len(x_train), \"Training sequences\")\n",
        "print(len(x_val), \"Validation sequences\")\n",
        "x_train = keras.preprocessing.sequence.pad_sequences(x_train, maxlen=maxlen)\n",
        "x_val = keras.preprocessing.sequence.pad_sequences(x_val, maxlen=maxlen)\n",
        "\n",
        "x_train.shape, x_val.shape, y_train.shape, y_val.shape"
      ],
      "execution_count": null,
      "outputs": []
    },
    {
      "cell_type": "code",
      "metadata": {
        "id": "dcjZdByRZhMe"
      },
      "source": [
        "x_train[5566]"
      ],
      "execution_count": null,
      "outputs": []
    },
    {
      "cell_type": "markdown",
      "metadata": {
        "id": "4P4kFla6H3La"
      },
      "source": [
        "## Train and evaluate the model"
      ]
    },
    {
      "cell_type": "code",
      "metadata": {
        "id": "N055xduHH3La"
      },
      "source": [
        "model.compile(\"adam\", \"binary_crossentropy\", metrics=[\"accuracy\"])\n",
        "model.fit(x_train, y_train, batch_size=128, epochs=5, validation_data=(x_val, y_val))"
      ],
      "execution_count": null,
      "outputs": []
    },
    {
      "cell_type": "markdown",
      "metadata": {
        "id": "bga7Venbxklg"
      },
      "source": [
        "### Exercise: Reuters classification"
      ]
    },
    {
      "cell_type": "code",
      "metadata": {
        "id": "44a4okUkUPuw"
      },
      "source": [
        "(x_train, y_train), (x_test, y_test) = tf.keras.datasets.reuters.load_data()"
      ],
      "execution_count": null,
      "outputs": []
    },
    {
      "cell_type": "code",
      "metadata": {
        "id": "GQhQwnw5uuqN"
      },
      "source": [
        ""
      ],
      "execution_count": null,
      "outputs": []
    }
  ]
}